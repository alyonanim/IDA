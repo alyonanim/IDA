{
 "cells": [
  {
   "cell_type": "markdown",
   "metadata": {
    "id": "Ffq6A2-ifzAA"
   },
   "source": [
    "# Интеллектуальный анализ данных – весна 2024\n",
    "# Домашнее задание 6: классификация текстов"
   ]
  },
  {
   "cell_type": "markdown",
   "metadata": {
    "id": "itRtFtrOf0_b"
   },
   "source": [
    "В этом домашнем задании вам предстоит построить классификатор текстов.\n",
    "\n",
    "Будем предсказывать эмоциональную окраску твиттов о коронавирусе.\n",
    "\n"
   ]
  },
  {
   "cell_type": "code",
   "execution_count": 2,
   "metadata": {
    "id": "tNGRVO7_g9mz"
   },
   "outputs": [],
   "source": [
    "import numpy as np\n",
    "import pandas as pd\n",
    "from typing import  List\n",
    "import matplotlib.pyplot as plt\n",
    "import seaborn as sns\n",
    "from string import punctuation\n",
    "import warnings\n",
    "warnings.filterwarnings(\"ignore\")"
   ]
  },
  {
   "cell_type": "code",
   "execution_count": 14,
   "metadata": {
    "colab": {
     "base_uri": "https://localhost:8080/",
     "height": 175
    },
    "id": "zOy8iHJQg_Ss",
    "outputId": "b5b73759-6619-4f39-cd71-3cdb407f5381"
   },
   "outputs": [
    {
     "data": {
      "application/vnd.google.colaboratory.intrinsic+json": {
       "repr_error": "0",
       "type": "dataframe"
      },
      "text/html": [
       "\n",
       "  <div id=\"df-373b5483-8d91-453c-ad5e-34f3ae8fe3e6\" class=\"colab-df-container\">\n",
       "    <div>\n",
       "<style scoped>\n",
       "    .dataframe tbody tr th:only-of-type {\n",
       "        vertical-align: middle;\n",
       "    }\n",
       "\n",
       "    .dataframe tbody tr th {\n",
       "        vertical-align: top;\n",
       "    }\n",
       "\n",
       "    .dataframe thead th {\n",
       "        text-align: right;\n",
       "    }\n",
       "</style>\n",
       "<table border=\"1\" class=\"dataframe\">\n",
       "  <thead>\n",
       "    <tr style=\"text-align: right;\">\n",
       "      <th></th>\n",
       "      <th>UserName</th>\n",
       "      <th>ScreenName</th>\n",
       "      <th>Location</th>\n",
       "      <th>TweetAt</th>\n",
       "      <th>OriginalTweet</th>\n",
       "      <th>Sentiment</th>\n",
       "    </tr>\n",
       "  </thead>\n",
       "  <tbody>\n",
       "    <tr>\n",
       "      <th>999</th>\n",
       "      <td>5010</td>\n",
       "      <td>49962</td>\n",
       "      <td>London</td>\n",
       "      <td>17-03-2020</td>\n",
       "      <td>Tritax Big Box (BBOX) battered today as invest...</td>\n",
       "      <td>Negative</td>\n",
       "    </tr>\n",
       "    <tr>\n",
       "      <th>6968</th>\n",
       "      <td>12274</td>\n",
       "      <td>57226</td>\n",
       "      <td>Owen Sound, Ontario</td>\n",
       "      <td>19-03-2020</td>\n",
       "      <td>Honestly, it didnÃÂt feel real that the covi...</td>\n",
       "      <td>Negative</td>\n",
       "    </tr>\n",
       "    <tr>\n",
       "      <th>30937</th>\n",
       "      <td>41859</td>\n",
       "      <td>86811</td>\n",
       "      <td>Geek USA - 365/24/7</td>\n",
       "      <td>11-04-2020</td>\n",
       "      <td>HUGE Kudos to \"ALL\" the Frontline workers, esp...</td>\n",
       "      <td>Extremely Positive</td>\n",
       "    </tr>\n",
       "    <tr>\n",
       "      <th>9962</th>\n",
       "      <td>15900</td>\n",
       "      <td>60852</td>\n",
       "      <td>NaN</td>\n",
       "      <td>21-03-2020</td>\n",
       "      <td>2008 Lehman vs COVID 19 3 20 Blue chip stock p...</td>\n",
       "      <td>Negative</td>\n",
       "    </tr>\n",
       "  </tbody>\n",
       "</table>\n",
       "</div>\n",
       "    <div class=\"colab-df-buttons\">\n",
       "\n",
       "  <div class=\"colab-df-container\">\n",
       "    <button class=\"colab-df-convert\" onclick=\"convertToInteractive('df-373b5483-8d91-453c-ad5e-34f3ae8fe3e6')\"\n",
       "            title=\"Convert this dataframe to an interactive table.\"\n",
       "            style=\"display:none;\">\n",
       "\n",
       "  <svg xmlns=\"http://www.w3.org/2000/svg\" height=\"24px\" viewBox=\"0 -960 960 960\">\n",
       "    <path d=\"M120-120v-720h720v720H120Zm60-500h600v-160H180v160Zm220 220h160v-160H400v160Zm0 220h160v-160H400v160ZM180-400h160v-160H180v160Zm440 0h160v-160H620v160ZM180-180h160v-160H180v160Zm440 0h160v-160H620v160Z\"/>\n",
       "  </svg>\n",
       "    </button>\n",
       "\n",
       "  <style>\n",
       "    .colab-df-container {\n",
       "      display:flex;\n",
       "      gap: 12px;\n",
       "    }\n",
       "\n",
       "    .colab-df-convert {\n",
       "      background-color: #E8F0FE;\n",
       "      border: none;\n",
       "      border-radius: 50%;\n",
       "      cursor: pointer;\n",
       "      display: none;\n",
       "      fill: #1967D2;\n",
       "      height: 32px;\n",
       "      padding: 0 0 0 0;\n",
       "      width: 32px;\n",
       "    }\n",
       "\n",
       "    .colab-df-convert:hover {\n",
       "      background-color: #E2EBFA;\n",
       "      box-shadow: 0px 1px 2px rgba(60, 64, 67, 0.3), 0px 1px 3px 1px rgba(60, 64, 67, 0.15);\n",
       "      fill: #174EA6;\n",
       "    }\n",
       "\n",
       "    .colab-df-buttons div {\n",
       "      margin-bottom: 4px;\n",
       "    }\n",
       "\n",
       "    [theme=dark] .colab-df-convert {\n",
       "      background-color: #3B4455;\n",
       "      fill: #D2E3FC;\n",
       "    }\n",
       "\n",
       "    [theme=dark] .colab-df-convert:hover {\n",
       "      background-color: #434B5C;\n",
       "      box-shadow: 0px 1px 3px 1px rgba(0, 0, 0, 0.15);\n",
       "      filter: drop-shadow(0px 1px 2px rgba(0, 0, 0, 0.3));\n",
       "      fill: #FFFFFF;\n",
       "    }\n",
       "  </style>\n",
       "\n",
       "    <script>\n",
       "      const buttonEl =\n",
       "        document.querySelector('#df-373b5483-8d91-453c-ad5e-34f3ae8fe3e6 button.colab-df-convert');\n",
       "      buttonEl.style.display =\n",
       "        google.colab.kernel.accessAllowed ? 'block' : 'none';\n",
       "\n",
       "      async function convertToInteractive(key) {\n",
       "        const element = document.querySelector('#df-373b5483-8d91-453c-ad5e-34f3ae8fe3e6');\n",
       "        const dataTable =\n",
       "          await google.colab.kernel.invokeFunction('convertToInteractive',\n",
       "                                                    [key], {});\n",
       "        if (!dataTable) return;\n",
       "\n",
       "        const docLinkHtml = 'Like what you see? Visit the ' +\n",
       "          '<a target=\"_blank\" href=https://colab.research.google.com/notebooks/data_table.ipynb>data table notebook</a>'\n",
       "          + ' to learn more about interactive tables.';\n",
       "        element.innerHTML = '';\n",
       "        dataTable['output_type'] = 'display_data';\n",
       "        await google.colab.output.renderOutput(dataTable, element);\n",
       "        const docLink = document.createElement('div');\n",
       "        docLink.innerHTML = docLinkHtml;\n",
       "        element.appendChild(docLink);\n",
       "      }\n",
       "    </script>\n",
       "  </div>\n",
       "\n",
       "\n",
       "<div id=\"df-8c9e0ab8-8e35-4b14-a5ac-b7279e70e5b3\">\n",
       "  <button class=\"colab-df-quickchart\" onclick=\"quickchart('df-8c9e0ab8-8e35-4b14-a5ac-b7279e70e5b3')\"\n",
       "            title=\"Suggest charts\"\n",
       "            style=\"display:none;\">\n",
       "\n",
       "<svg xmlns=\"http://www.w3.org/2000/svg\" height=\"24px\"viewBox=\"0 0 24 24\"\n",
       "     width=\"24px\">\n",
       "    <g>\n",
       "        <path d=\"M19 3H5c-1.1 0-2 .9-2 2v14c0 1.1.9 2 2 2h14c1.1 0 2-.9 2-2V5c0-1.1-.9-2-2-2zM9 17H7v-7h2v7zm4 0h-2V7h2v10zm4 0h-2v-4h2v4z\"/>\n",
       "    </g>\n",
       "</svg>\n",
       "  </button>\n",
       "\n",
       "<style>\n",
       "  .colab-df-quickchart {\n",
       "      --bg-color: #E8F0FE;\n",
       "      --fill-color: #1967D2;\n",
       "      --hover-bg-color: #E2EBFA;\n",
       "      --hover-fill-color: #174EA6;\n",
       "      --disabled-fill-color: #AAA;\n",
       "      --disabled-bg-color: #DDD;\n",
       "  }\n",
       "\n",
       "  [theme=dark] .colab-df-quickchart {\n",
       "      --bg-color: #3B4455;\n",
       "      --fill-color: #D2E3FC;\n",
       "      --hover-bg-color: #434B5C;\n",
       "      --hover-fill-color: #FFFFFF;\n",
       "      --disabled-bg-color: #3B4455;\n",
       "      --disabled-fill-color: #666;\n",
       "  }\n",
       "\n",
       "  .colab-df-quickchart {\n",
       "    background-color: var(--bg-color);\n",
       "    border: none;\n",
       "    border-radius: 50%;\n",
       "    cursor: pointer;\n",
       "    display: none;\n",
       "    fill: var(--fill-color);\n",
       "    height: 32px;\n",
       "    padding: 0;\n",
       "    width: 32px;\n",
       "  }\n",
       "\n",
       "  .colab-df-quickchart:hover {\n",
       "    background-color: var(--hover-bg-color);\n",
       "    box-shadow: 0 1px 2px rgba(60, 64, 67, 0.3), 0 1px 3px 1px rgba(60, 64, 67, 0.15);\n",
       "    fill: var(--button-hover-fill-color);\n",
       "  }\n",
       "\n",
       "  .colab-df-quickchart-complete:disabled,\n",
       "  .colab-df-quickchart-complete:disabled:hover {\n",
       "    background-color: var(--disabled-bg-color);\n",
       "    fill: var(--disabled-fill-color);\n",
       "    box-shadow: none;\n",
       "  }\n",
       "\n",
       "  .colab-df-spinner {\n",
       "    border: 2px solid var(--fill-color);\n",
       "    border-color: transparent;\n",
       "    border-bottom-color: var(--fill-color);\n",
       "    animation:\n",
       "      spin 1s steps(1) infinite;\n",
       "  }\n",
       "\n",
       "  @keyframes spin {\n",
       "    0% {\n",
       "      border-color: transparent;\n",
       "      border-bottom-color: var(--fill-color);\n",
       "      border-left-color: var(--fill-color);\n",
       "    }\n",
       "    20% {\n",
       "      border-color: transparent;\n",
       "      border-left-color: var(--fill-color);\n",
       "      border-top-color: var(--fill-color);\n",
       "    }\n",
       "    30% {\n",
       "      border-color: transparent;\n",
       "      border-left-color: var(--fill-color);\n",
       "      border-top-color: var(--fill-color);\n",
       "      border-right-color: var(--fill-color);\n",
       "    }\n",
       "    40% {\n",
       "      border-color: transparent;\n",
       "      border-right-color: var(--fill-color);\n",
       "      border-top-color: var(--fill-color);\n",
       "    }\n",
       "    60% {\n",
       "      border-color: transparent;\n",
       "      border-right-color: var(--fill-color);\n",
       "    }\n",
       "    80% {\n",
       "      border-color: transparent;\n",
       "      border-right-color: var(--fill-color);\n",
       "      border-bottom-color: var(--fill-color);\n",
       "    }\n",
       "    90% {\n",
       "      border-color: transparent;\n",
       "      border-bottom-color: var(--fill-color);\n",
       "    }\n",
       "  }\n",
       "</style>\n",
       "\n",
       "  <script>\n",
       "    async function quickchart(key) {\n",
       "      const quickchartButtonEl =\n",
       "        document.querySelector('#' + key + ' button');\n",
       "      quickchartButtonEl.disabled = true;  // To prevent multiple clicks.\n",
       "      quickchartButtonEl.classList.add('colab-df-spinner');\n",
       "      try {\n",
       "        const charts = await google.colab.kernel.invokeFunction(\n",
       "            'suggestCharts', [key], {});\n",
       "      } catch (error) {\n",
       "        console.error('Error during call to suggestCharts:', error);\n",
       "      }\n",
       "      quickchartButtonEl.classList.remove('colab-df-spinner');\n",
       "      quickchartButtonEl.classList.add('colab-df-quickchart-complete');\n",
       "    }\n",
       "    (() => {\n",
       "      let quickchartButtonEl =\n",
       "        document.querySelector('#df-8c9e0ab8-8e35-4b14-a5ac-b7279e70e5b3 button');\n",
       "      quickchartButtonEl.style.display =\n",
       "        google.colab.kernel.accessAllowed ? 'block' : 'none';\n",
       "    })();\n",
       "  </script>\n",
       "</div>\n",
       "    </div>\n",
       "  </div>\n"
      ],
      "text/plain": [
       "       UserName  ScreenName             Location     TweetAt  \\\n",
       "999        5010       49962               London  17-03-2020   \n",
       "6968      12274       57226  Owen Sound, Ontario  19-03-2020   \n",
       "30937     41859       86811  Geek USA - 365/24/7  11-04-2020   \n",
       "9962      15900       60852                  NaN  21-03-2020   \n",
       "\n",
       "                                           OriginalTweet           Sentiment  \n",
       "999    Tritax Big Box (BBOX) battered today as invest...            Negative  \n",
       "6968   Honestly, it didnÃÂt feel real that the covi...            Negative  \n",
       "30937  HUGE Kudos to \"ALL\" the Frontline workers, esp...  Extremely Positive  \n",
       "9962   2008 Lehman vs COVID 19 3 20 Blue chip stock p...            Negative  "
      ]
     },
     "execution_count": 14,
     "metadata": {},
     "output_type": "execute_result"
    }
   ],
   "source": [
    "df = pd.read_csv('/content/tweets_coronavirus.csv', encoding='latin-1')\n",
    "df.sample(4)"
   ]
  },
  {
   "cell_type": "markdown",
   "metadata": {
    "id": "m2OiDog9ZBlS"
   },
   "source": [
    "Для каждого твитта указано:\n",
    "\n",
    "\n",
    "*   UserName - имя пользователя, заменено на целое число для анонимности\n",
    "*   ScreenName - отображающееся имя пользователя, заменено на целое число для анонимности\n",
    "*   Location - местоположение\n",
    "*   TweetAt - дата создания твитта\n",
    "*   OriginalTweet - текст твитта\n",
    "*   Sentiment - эмоциональная окраска твитта (целевая переменная)\n",
    "\n"
   ]
  },
  {
   "cell_type": "markdown",
   "metadata": {
    "id": "pZTMseDkhTC7"
   },
   "source": [
    "## Задание 1 Подготовка (0.5 балла)"
   ]
  },
  {
   "cell_type": "markdown",
   "metadata": {
    "id": "Xx2-odn9hdAW"
   },
   "source": [
    "Целевая переменная находится в колонке `Sentiment`.  Преобразуем ее таким образом, чтобы она стала бинарной: 1 - если у твитта положительная эмоциональная окраска и 0 - если отрицательная."
   ]
  },
  {
   "cell_type": "code",
   "execution_count": 4,
   "metadata": {
    "colab": {
     "base_uri": "https://localhost:8080/"
    },
    "id": "bgHYqo4pddz1",
    "outputId": "3dc91884-f610-4852-c6a3-d4ad0bfbf165"
   },
   "outputs": [
    {
     "data": {
      "text/plain": [
       "array(['Positive', 'Extremely Negative', 'Negative', 'Extremely Positive'],\n",
       "      dtype=object)"
      ]
     },
     "execution_count": 4,
     "metadata": {},
     "output_type": "execute_result"
    }
   ],
   "source": [
    "#смотрим значения, которые используются в этом столбце\n",
    "df.Sentiment.unique()"
   ]
  },
  {
   "cell_type": "code",
   "execution_count": 15,
   "metadata": {
    "id": "ZaQKQ1zEjP15"
   },
   "outputs": [],
   "source": [
    "# кодирование\n",
    "df.Sentiment = df.Sentiment.apply(lambda x: 1 if x == 'Positive' or x == 'Extremely Positive' else 0)"
   ]
  },
  {
   "cell_type": "code",
   "execution_count": 6,
   "metadata": {
    "colab": {
     "base_uri": "https://localhost:8080/",
     "height": 424
    },
    "id": "01p-jSFOdvxz",
    "outputId": "f9b455e3-27ec-4ec1-c235-7d37336607b8"
   },
   "outputs": [
    {
     "data": {
      "application/vnd.google.colaboratory.intrinsic+json": {
       "summary": "{\n  \"name\": \"df\",\n  \"rows\": 33444,\n  \"fields\": [\n    {\n      \"column\": \"UserName\",\n      \"properties\": {\n        \"dtype\": \"number\",\n        \"std\": 11875,\n        \"min\": 3800,\n        \"max\": 44955,\n        \"num_unique_values\": 33444,\n        \"samples\": [\n          33995,\n          17124,\n          18421\n        ],\n        \"semantic_type\": \"\",\n        \"description\": \"\"\n      }\n    },\n    {\n      \"column\": \"ScreenName\",\n      \"properties\": {\n        \"dtype\": \"number\",\n        \"std\": 11875,\n        \"min\": 48752,\n        \"max\": 89907,\n        \"num_unique_values\": 33444,\n        \"samples\": [\n          78947,\n          62076,\n          63373\n        ],\n        \"semantic_type\": \"\",\n        \"description\": \"\"\n      }\n    },\n    {\n      \"column\": \"Location\",\n      \"properties\": {\n        \"dtype\": \"category\",\n        \"num_unique_values\": 10465,\n        \"samples\": [\n          \"Kitchener | Ontario | Canada\",\n          \"Montr\\u00c3\\u0083\\u00c2\\u00a9al\",\n          \"England. Germany.\"\n        ],\n        \"semantic_type\": \"\",\n        \"description\": \"\"\n      }\n    },\n    {\n      \"column\": \"TweetAt\",\n      \"properties\": {\n        \"dtype\": \"object\",\n        \"num_unique_values\": 30,\n        \"samples\": [\n          \"12-04-2020\",\n          \"31-03-2020\",\n          \"08-04-2020\"\n        ],\n        \"semantic_type\": \"\",\n        \"description\": \"\"\n      }\n    },\n    {\n      \"column\": \"OriginalTweet\",\n      \"properties\": {\n        \"dtype\": \"string\",\n        \"num_unique_values\": 33444,\n        \"samples\": [\n          \"US death toll is way less than estimated. This I hope will bring back consumer confidence #coronavirus #Covid_19 #CoronavirusUSA\",\n          \"We will get through this by people helping people and not stock piling food and toiletries, selfish pricks #Covid_19\",\n          \"#rice prices soar to two-year high, traders blame it on #coronavirus panic buying, writes #YasirWardad https://t.co/hIXzS1DKdo #FE via @febdonline\"\n        ],\n        \"semantic_type\": \"\",\n        \"description\": \"\"\n      }\n    },\n    {\n      \"column\": \"Sentiment\",\n      \"properties\": {\n        \"dtype\": \"number\",\n        \"std\": 0,\n        \"min\": 0,\n        \"max\": 1,\n        \"num_unique_values\": 2,\n        \"samples\": [\n          0,\n          1\n        ],\n        \"semantic_type\": \"\",\n        \"description\": \"\"\n      }\n    }\n  ]\n}",
       "type": "dataframe",
       "variable_name": "df"
      },
      "text/html": [
       "\n",
       "  <div id=\"df-f95c505c-0b0f-421e-a0c3-8494b3eaac99\" class=\"colab-df-container\">\n",
       "    <div>\n",
       "<style scoped>\n",
       "    .dataframe tbody tr th:only-of-type {\n",
       "        vertical-align: middle;\n",
       "    }\n",
       "\n",
       "    .dataframe tbody tr th {\n",
       "        vertical-align: top;\n",
       "    }\n",
       "\n",
       "    .dataframe thead th {\n",
       "        text-align: right;\n",
       "    }\n",
       "</style>\n",
       "<table border=\"1\" class=\"dataframe\">\n",
       "  <thead>\n",
       "    <tr style=\"text-align: right;\">\n",
       "      <th></th>\n",
       "      <th>UserName</th>\n",
       "      <th>ScreenName</th>\n",
       "      <th>Location</th>\n",
       "      <th>TweetAt</th>\n",
       "      <th>OriginalTweet</th>\n",
       "      <th>Sentiment</th>\n",
       "    </tr>\n",
       "  </thead>\n",
       "  <tbody>\n",
       "    <tr>\n",
       "      <th>0</th>\n",
       "      <td>3800</td>\n",
       "      <td>48752</td>\n",
       "      <td>UK</td>\n",
       "      <td>16-03-2020</td>\n",
       "      <td>advice Talk to your neighbours family to excha...</td>\n",
       "      <td>1</td>\n",
       "    </tr>\n",
       "    <tr>\n",
       "      <th>1</th>\n",
       "      <td>3801</td>\n",
       "      <td>48753</td>\n",
       "      <td>Vagabonds</td>\n",
       "      <td>16-03-2020</td>\n",
       "      <td>Coronavirus Australia: Woolworths to give elde...</td>\n",
       "      <td>1</td>\n",
       "    </tr>\n",
       "    <tr>\n",
       "      <th>2</th>\n",
       "      <td>3802</td>\n",
       "      <td>48754</td>\n",
       "      <td>NaN</td>\n",
       "      <td>16-03-2020</td>\n",
       "      <td>My food stock is not the only one which is emp...</td>\n",
       "      <td>1</td>\n",
       "    </tr>\n",
       "    <tr>\n",
       "      <th>3</th>\n",
       "      <td>3803</td>\n",
       "      <td>48755</td>\n",
       "      <td>NaN</td>\n",
       "      <td>16-03-2020</td>\n",
       "      <td>Me, ready to go at supermarket during the #COV...</td>\n",
       "      <td>0</td>\n",
       "    </tr>\n",
       "    <tr>\n",
       "      <th>4</th>\n",
       "      <td>3804</td>\n",
       "      <td>48756</td>\n",
       "      <td>ÃÂT: 36.319708,-82.363649</td>\n",
       "      <td>16-03-2020</td>\n",
       "      <td>As news of the regionÃÂs first confirmed COV...</td>\n",
       "      <td>1</td>\n",
       "    </tr>\n",
       "    <tr>\n",
       "      <th>...</th>\n",
       "      <td>...</td>\n",
       "      <td>...</td>\n",
       "      <td>...</td>\n",
       "      <td>...</td>\n",
       "      <td>...</td>\n",
       "      <td>...</td>\n",
       "    </tr>\n",
       "    <tr>\n",
       "      <th>33439</th>\n",
       "      <td>44949</td>\n",
       "      <td>89901</td>\n",
       "      <td>OHIO</td>\n",
       "      <td>14-04-2020</td>\n",
       "      <td>I never that weÃÂd be in a situation &amp;amp; w...</td>\n",
       "      <td>1</td>\n",
       "    </tr>\n",
       "    <tr>\n",
       "      <th>33440</th>\n",
       "      <td>44950</td>\n",
       "      <td>89902</td>\n",
       "      <td>NaN</td>\n",
       "      <td>14-04-2020</td>\n",
       "      <td>@MrSilverScott you are definitely my man. I fe...</td>\n",
       "      <td>1</td>\n",
       "    </tr>\n",
       "    <tr>\n",
       "      <th>33441</th>\n",
       "      <td>44952</td>\n",
       "      <td>89904</td>\n",
       "      <td>NaN</td>\n",
       "      <td>14-04-2020</td>\n",
       "      <td>Response to complaint not provided citing COVI...</td>\n",
       "      <td>0</td>\n",
       "    </tr>\n",
       "    <tr>\n",
       "      <th>33442</th>\n",
       "      <td>44953</td>\n",
       "      <td>89905</td>\n",
       "      <td>NaN</td>\n",
       "      <td>14-04-2020</td>\n",
       "      <td>You know itÃÂs getting tough when @KameronWi...</td>\n",
       "      <td>1</td>\n",
       "    </tr>\n",
       "    <tr>\n",
       "      <th>33443</th>\n",
       "      <td>44955</td>\n",
       "      <td>89907</td>\n",
       "      <td>i love you so much || he/him</td>\n",
       "      <td>14-04-2020</td>\n",
       "      <td>@TartiiCat Well new/used Rift S are going for ...</td>\n",
       "      <td>0</td>\n",
       "    </tr>\n",
       "  </tbody>\n",
       "</table>\n",
       "<p>33444 rows × 6 columns</p>\n",
       "</div>\n",
       "    <div class=\"colab-df-buttons\">\n",
       "\n",
       "  <div class=\"colab-df-container\">\n",
       "    <button class=\"colab-df-convert\" onclick=\"convertToInteractive('df-f95c505c-0b0f-421e-a0c3-8494b3eaac99')\"\n",
       "            title=\"Convert this dataframe to an interactive table.\"\n",
       "            style=\"display:none;\">\n",
       "\n",
       "  <svg xmlns=\"http://www.w3.org/2000/svg\" height=\"24px\" viewBox=\"0 -960 960 960\">\n",
       "    <path d=\"M120-120v-720h720v720H120Zm60-500h600v-160H180v160Zm220 220h160v-160H400v160Zm0 220h160v-160H400v160ZM180-400h160v-160H180v160Zm440 0h160v-160H620v160ZM180-180h160v-160H180v160Zm440 0h160v-160H620v160Z\"/>\n",
       "  </svg>\n",
       "    </button>\n",
       "\n",
       "  <style>\n",
       "    .colab-df-container {\n",
       "      display:flex;\n",
       "      gap: 12px;\n",
       "    }\n",
       "\n",
       "    .colab-df-convert {\n",
       "      background-color: #E8F0FE;\n",
       "      border: none;\n",
       "      border-radius: 50%;\n",
       "      cursor: pointer;\n",
       "      display: none;\n",
       "      fill: #1967D2;\n",
       "      height: 32px;\n",
       "      padding: 0 0 0 0;\n",
       "      width: 32px;\n",
       "    }\n",
       "\n",
       "    .colab-df-convert:hover {\n",
       "      background-color: #E2EBFA;\n",
       "      box-shadow: 0px 1px 2px rgba(60, 64, 67, 0.3), 0px 1px 3px 1px rgba(60, 64, 67, 0.15);\n",
       "      fill: #174EA6;\n",
       "    }\n",
       "\n",
       "    .colab-df-buttons div {\n",
       "      margin-bottom: 4px;\n",
       "    }\n",
       "\n",
       "    [theme=dark] .colab-df-convert {\n",
       "      background-color: #3B4455;\n",
       "      fill: #D2E3FC;\n",
       "    }\n",
       "\n",
       "    [theme=dark] .colab-df-convert:hover {\n",
       "      background-color: #434B5C;\n",
       "      box-shadow: 0px 1px 3px 1px rgba(0, 0, 0, 0.15);\n",
       "      filter: drop-shadow(0px 1px 2px rgba(0, 0, 0, 0.3));\n",
       "      fill: #FFFFFF;\n",
       "    }\n",
       "  </style>\n",
       "\n",
       "    <script>\n",
       "      const buttonEl =\n",
       "        document.querySelector('#df-f95c505c-0b0f-421e-a0c3-8494b3eaac99 button.colab-df-convert');\n",
       "      buttonEl.style.display =\n",
       "        google.colab.kernel.accessAllowed ? 'block' : 'none';\n",
       "\n",
       "      async function convertToInteractive(key) {\n",
       "        const element = document.querySelector('#df-f95c505c-0b0f-421e-a0c3-8494b3eaac99');\n",
       "        const dataTable =\n",
       "          await google.colab.kernel.invokeFunction('convertToInteractive',\n",
       "                                                    [key], {});\n",
       "        if (!dataTable) return;\n",
       "\n",
       "        const docLinkHtml = 'Like what you see? Visit the ' +\n",
       "          '<a target=\"_blank\" href=https://colab.research.google.com/notebooks/data_table.ipynb>data table notebook</a>'\n",
       "          + ' to learn more about interactive tables.';\n",
       "        element.innerHTML = '';\n",
       "        dataTable['output_type'] = 'display_data';\n",
       "        await google.colab.output.renderOutput(dataTable, element);\n",
       "        const docLink = document.createElement('div');\n",
       "        docLink.innerHTML = docLinkHtml;\n",
       "        element.appendChild(docLink);\n",
       "      }\n",
       "    </script>\n",
       "  </div>\n",
       "\n",
       "\n",
       "<div id=\"df-754719c8-de36-450a-8063-fb8d477acf78\">\n",
       "  <button class=\"colab-df-quickchart\" onclick=\"quickchart('df-754719c8-de36-450a-8063-fb8d477acf78')\"\n",
       "            title=\"Suggest charts\"\n",
       "            style=\"display:none;\">\n",
       "\n",
       "<svg xmlns=\"http://www.w3.org/2000/svg\" height=\"24px\"viewBox=\"0 0 24 24\"\n",
       "     width=\"24px\">\n",
       "    <g>\n",
       "        <path d=\"M19 3H5c-1.1 0-2 .9-2 2v14c0 1.1.9 2 2 2h14c1.1 0 2-.9 2-2V5c0-1.1-.9-2-2-2zM9 17H7v-7h2v7zm4 0h-2V7h2v10zm4 0h-2v-4h2v4z\"/>\n",
       "    </g>\n",
       "</svg>\n",
       "  </button>\n",
       "\n",
       "<style>\n",
       "  .colab-df-quickchart {\n",
       "      --bg-color: #E8F0FE;\n",
       "      --fill-color: #1967D2;\n",
       "      --hover-bg-color: #E2EBFA;\n",
       "      --hover-fill-color: #174EA6;\n",
       "      --disabled-fill-color: #AAA;\n",
       "      --disabled-bg-color: #DDD;\n",
       "  }\n",
       "\n",
       "  [theme=dark] .colab-df-quickchart {\n",
       "      --bg-color: #3B4455;\n",
       "      --fill-color: #D2E3FC;\n",
       "      --hover-bg-color: #434B5C;\n",
       "      --hover-fill-color: #FFFFFF;\n",
       "      --disabled-bg-color: #3B4455;\n",
       "      --disabled-fill-color: #666;\n",
       "  }\n",
       "\n",
       "  .colab-df-quickchart {\n",
       "    background-color: var(--bg-color);\n",
       "    border: none;\n",
       "    border-radius: 50%;\n",
       "    cursor: pointer;\n",
       "    display: none;\n",
       "    fill: var(--fill-color);\n",
       "    height: 32px;\n",
       "    padding: 0;\n",
       "    width: 32px;\n",
       "  }\n",
       "\n",
       "  .colab-df-quickchart:hover {\n",
       "    background-color: var(--hover-bg-color);\n",
       "    box-shadow: 0 1px 2px rgba(60, 64, 67, 0.3), 0 1px 3px 1px rgba(60, 64, 67, 0.15);\n",
       "    fill: var(--button-hover-fill-color);\n",
       "  }\n",
       "\n",
       "  .colab-df-quickchart-complete:disabled,\n",
       "  .colab-df-quickchart-complete:disabled:hover {\n",
       "    background-color: var(--disabled-bg-color);\n",
       "    fill: var(--disabled-fill-color);\n",
       "    box-shadow: none;\n",
       "  }\n",
       "\n",
       "  .colab-df-spinner {\n",
       "    border: 2px solid var(--fill-color);\n",
       "    border-color: transparent;\n",
       "    border-bottom-color: var(--fill-color);\n",
       "    animation:\n",
       "      spin 1s steps(1) infinite;\n",
       "  }\n",
       "\n",
       "  @keyframes spin {\n",
       "    0% {\n",
       "      border-color: transparent;\n",
       "      border-bottom-color: var(--fill-color);\n",
       "      border-left-color: var(--fill-color);\n",
       "    }\n",
       "    20% {\n",
       "      border-color: transparent;\n",
       "      border-left-color: var(--fill-color);\n",
       "      border-top-color: var(--fill-color);\n",
       "    }\n",
       "    30% {\n",
       "      border-color: transparent;\n",
       "      border-left-color: var(--fill-color);\n",
       "      border-top-color: var(--fill-color);\n",
       "      border-right-color: var(--fill-color);\n",
       "    }\n",
       "    40% {\n",
       "      border-color: transparent;\n",
       "      border-right-color: var(--fill-color);\n",
       "      border-top-color: var(--fill-color);\n",
       "    }\n",
       "    60% {\n",
       "      border-color: transparent;\n",
       "      border-right-color: var(--fill-color);\n",
       "    }\n",
       "    80% {\n",
       "      border-color: transparent;\n",
       "      border-right-color: var(--fill-color);\n",
       "      border-bottom-color: var(--fill-color);\n",
       "    }\n",
       "    90% {\n",
       "      border-color: transparent;\n",
       "      border-bottom-color: var(--fill-color);\n",
       "    }\n",
       "  }\n",
       "</style>\n",
       "\n",
       "  <script>\n",
       "    async function quickchart(key) {\n",
       "      const quickchartButtonEl =\n",
       "        document.querySelector('#' + key + ' button');\n",
       "      quickchartButtonEl.disabled = true;  // To prevent multiple clicks.\n",
       "      quickchartButtonEl.classList.add('colab-df-spinner');\n",
       "      try {\n",
       "        const charts = await google.colab.kernel.invokeFunction(\n",
       "            'suggestCharts', [key], {});\n",
       "      } catch (error) {\n",
       "        console.error('Error during call to suggestCharts:', error);\n",
       "      }\n",
       "      quickchartButtonEl.classList.remove('colab-df-spinner');\n",
       "      quickchartButtonEl.classList.add('colab-df-quickchart-complete');\n",
       "    }\n",
       "    (() => {\n",
       "      let quickchartButtonEl =\n",
       "        document.querySelector('#df-754719c8-de36-450a-8063-fb8d477acf78 button');\n",
       "      quickchartButtonEl.style.display =\n",
       "        google.colab.kernel.accessAllowed ? 'block' : 'none';\n",
       "    })();\n",
       "  </script>\n",
       "</div>\n",
       "    </div>\n",
       "  </div>\n"
      ],
      "text/plain": [
       "       UserName  ScreenName                      Location     TweetAt  \\\n",
       "0          3800       48752                            UK  16-03-2020   \n",
       "1          3801       48753                     Vagabonds  16-03-2020   \n",
       "2          3802       48754                           NaN  16-03-2020   \n",
       "3          3803       48755                           NaN  16-03-2020   \n",
       "4          3804       48756   ÃÂT: 36.319708,-82.363649  16-03-2020   \n",
       "...         ...         ...                           ...         ...   \n",
       "33439     44949       89901                          OHIO  14-04-2020   \n",
       "33440     44950       89902                           NaN  14-04-2020   \n",
       "33441     44952       89904                           NaN  14-04-2020   \n",
       "33442     44953       89905                           NaN  14-04-2020   \n",
       "33443     44955       89907  i love you so much || he/him  14-04-2020   \n",
       "\n",
       "                                           OriginalTweet  Sentiment  \n",
       "0      advice Talk to your neighbours family to excha...          1  \n",
       "1      Coronavirus Australia: Woolworths to give elde...          1  \n",
       "2      My food stock is not the only one which is emp...          1  \n",
       "3      Me, ready to go at supermarket during the #COV...          0  \n",
       "4      As news of the regionÃÂs first confirmed COV...          1  \n",
       "...                                                  ...        ...  \n",
       "33439  I never that weÃÂd be in a situation &amp; w...          1  \n",
       "33440  @MrSilverScott you are definitely my man. I fe...          1  \n",
       "33441  Response to complaint not provided citing COVI...          0  \n",
       "33442  You know itÃÂs getting tough when @KameronWi...          1  \n",
       "33443  @TartiiCat Well new/used Rift S are going for ...          0  \n",
       "\n",
       "[33444 rows x 6 columns]"
      ]
     },
     "execution_count": 6,
     "metadata": {},
     "output_type": "execute_result"
    }
   ],
   "source": [
    "df"
   ]
  },
  {
   "cell_type": "markdown",
   "metadata": {
    "id": "pGq1FxJ-kBo5"
   },
   "source": [
    "Сбалансированы ли классы?"
   ]
  },
  {
   "cell_type": "code",
   "execution_count": null,
   "metadata": {
    "colab": {
     "base_uri": "https://localhost:8080/"
    },
    "id": "a7gdNtxckK5V",
    "outputId": "3cfea399-24f6-427a-9ed5-ca49ca3caa2d"
   },
   "outputs": [
    {
     "data": {
      "text/plain": [
       "Sentiment\n",
       "1    18046\n",
       "0    15398\n",
       "Name: count, dtype: int64"
      ]
     },
     "execution_count": 11,
     "metadata": {},
     "output_type": "execute_result"
    }
   ],
   "source": [
    "# смотрим количество наблюдений по класса\n",
    "df.Sentiment.value_counts()"
   ]
  },
  {
   "cell_type": "code",
   "execution_count": null,
   "metadata": {
    "colab": {
     "base_uri": "https://localhost:8080/"
    },
    "id": "XXSI75lheqTR",
    "outputId": "1fc5d095-59eb-43af-8475-b18d387dca3b"
   },
   "outputs": [
    {
     "data": {
      "text/plain": [
       "14.673611880749194"
      ]
     },
     "execution_count": 16,
     "metadata": {},
     "output_type": "execute_result"
    }
   ],
   "source": [
    "#разница в процентах между классами\n",
    "(1 - df.Sentiment.value_counts().loc[0] / df.Sentiment.value_counts().loc[1]) * 100"
   ]
  },
  {
   "cell_type": "markdown",
   "metadata": {
    "id": "Ng8BCelMkWb0"
   },
   "source": [
    "**Ответ:** В целом, несмотря на разное количество объектов в каждом классе, дисбаланс классов не сильный (всего 15%), поэтому можно считать, что классы сбалансированы"
   ]
  },
  {
   "cell_type": "markdown",
   "metadata": {
    "id": "qmSIBSsLk5Zz"
   },
   "source": [
    "Выведем на экран информацию о пропусках в данных. Если пропуски присутствуют, заполним их строкой 'Unknown'."
   ]
  },
  {
   "cell_type": "code",
   "execution_count": 7,
   "metadata": {
    "colab": {
     "base_uri": "https://localhost:8080/"
    },
    "id": "UhUVRkR5kxa7",
    "outputId": "b23d44fb-ad1e-4cdb-fe73-955f1a6c041f"
   },
   "outputs": [
    {
     "data": {
      "text/plain": [
       "UserName            0\n",
       "ScreenName          0\n",
       "Location         7049\n",
       "TweetAt             0\n",
       "OriginalTweet       0\n",
       "Sentiment           0\n",
       "dtype: int64"
      ]
     },
     "execution_count": 7,
     "metadata": {},
     "output_type": "execute_result"
    }
   ],
   "source": [
    "# смотрим наличие пропусков\n",
    "df.isna().sum()"
   ]
  },
  {
   "cell_type": "code",
   "execution_count": 16,
   "metadata": {
    "id": "0onQp1PQg2e8"
   },
   "outputs": [],
   "source": [
    "# заполняем пропуски\n",
    "df.Location = df.Location.fillna('Unknown')"
   ]
  },
  {
   "cell_type": "code",
   "execution_count": 9,
   "metadata": {
    "colab": {
     "base_uri": "https://localhost:8080/"
    },
    "id": "SPYDugRlhDld",
    "outputId": "191b9461-0b4b-45e7-a854-33582939e2c7"
   },
   "outputs": [
    {
     "data": {
      "text/plain": [
       "UserName         0\n",
       "ScreenName       0\n",
       "Location         0\n",
       "TweetAt          0\n",
       "OriginalTweet    0\n",
       "Sentiment        0\n",
       "dtype: int64"
      ]
     },
     "execution_count": 9,
     "metadata": {},
     "output_type": "execute_result"
    }
   ],
   "source": [
    "#проверка\n",
    "df.isna().sum()"
   ]
  },
  {
   "cell_type": "markdown",
   "metadata": {
    "id": "1tzt27tfjUpq"
   },
   "source": [
    "Разделим данные на обучающие и тестовые в соотношении 7 : 3 и `random_state=0`"
   ]
  },
  {
   "cell_type": "code",
   "execution_count": 17,
   "metadata": {
    "id": "xSLOA9tIj9Z6"
   },
   "outputs": [],
   "source": [
    "from sklearn.model_selection import train_test_split\n",
    "\n",
    "train, test = train_test_split(df, random_state=0, test_size=0.3)"
   ]
  },
  {
   "cell_type": "markdown",
   "metadata": {
    "id": "J9RrPUsJlL60"
   },
   "source": [
    "## Задание 2 Токенизация (3 балла)"
   ]
  },
  {
   "cell_type": "markdown",
   "metadata": {
    "id": "2Dz_b7Xopc_R"
   },
   "source": [
    "Постройим словарь на основе обучающей выборки и посчитаем количество встреч каждого токена с использованием самой простой токенизации - деления текстов по пробельным символам и приведение токенов в нижний регистр"
   ]
  },
  {
   "cell_type": "code",
   "execution_count": 21,
   "metadata": {
    "id": "Aoo049g1ueAi"
   },
   "outputs": [],
   "source": [
    "from collections import Counter\n",
    "full_text = ' '.join(train.OriginalTweet.values) #чтобы построить общий словарь (как, например, в методе bag-of-words) нужно объединить все твиты в единый текст\n",
    "full_text = [word.lower() for word in full_text.split()] #дробим по пробелам и приводим в нижний регистр\n",
    "cnt = Counter(full_text) #подсчет слов для создания словаря частотности\n",
    "freq_dict = dict(cnt)"
   ]
  },
  {
   "cell_type": "code",
   "execution_count": null,
   "metadata": {
    "id": "SFr67WOJphny"
   },
   "outputs": [],
   "source": [
    "#Другой способ (с циклами)\n",
    "#arr = train.OriginalTweet.apply(lambda x: x.lower().split()).values\n",
    "#freq_dict = {}\n",
    "#for lst in arr:\n",
    "#  for word in lst:\n",
    "#    freq_dict[word] = freq_dict.get(word, 0) + 1"
   ]
  },
  {
   "cell_type": "markdown",
   "metadata": {
    "id": "Pe0h2Jqkpnao"
   },
   "source": [
    "Какой размер словаря получился?"
   ]
  },
  {
   "cell_type": "code",
   "execution_count": 12,
   "metadata": {
    "colab": {
     "base_uri": "https://localhost:8080/"
    },
    "id": "umyENA7EpokD",
    "outputId": "861daa4a-09d9-4495-90f4-6fbdd2f92c13"
   },
   "outputs": [
    {
     "data": {
      "text/plain": [
       "79755"
      ]
     },
     "execution_count": 12,
     "metadata": {},
     "output_type": "execute_result"
    }
   ],
   "source": [
    "len(freq_dict)"
   ]
  },
  {
   "cell_type": "markdown",
   "metadata": {
    "id": "0d2G1Z-Qpqkd"
   },
   "source": [
    "Выведем 10 самых популярных токенов с количеством встреч каждого из них"
   ]
  },
  {
   "cell_type": "code",
   "execution_count": 13,
   "metadata": {
    "colab": {
     "base_uri": "https://localhost:8080/"
    },
    "id": "Impi32a_pssg",
    "outputId": "260863e4-c33f-4e54-a426-19250d43ce64"
   },
   "outputs": [
    {
     "name": "stdout",
     "output_type": "stream",
     "text": [
      "the - 26815\n",
      "to - 23373\n",
      "and - 14684\n",
      "of - 13012\n",
      "a - 11737\n",
      "in - 11198\n",
      "for - 8566\n",
      "#coronavirus - 8223\n",
      "is - 7383\n",
      "are - 7050\n"
     ]
    }
   ],
   "source": [
    "top_words = sorted(freq_dict, key = freq_dict.get, reverse = True)[:10]\n",
    "for word in top_words:\n",
    "  print(word,'-', freq_dict[word])"
   ]
  },
  {
   "cell_type": "markdown",
   "metadata": {
    "id": "ZtuJCD0ApuFd"
   },
   "source": [
    "**Ответ:** Эти токены наиболее часто встречаются, потому что это стоп-слова, то есть слова, которые являются неотъемлемой частью любого предложения, но какого-то дополнительного смысла они не дают. То есть это предлоги, артикли и другие служебные части речи. Единственным исключением является тег #coronavirus, так как все эти твиты собраны на эту тему, они включают этот тег как характеристику содержания текста."
   ]
  },
  {
   "cell_type": "markdown",
   "metadata": {
    "id": "T7DTQDkWsVYp"
   },
   "source": [
    "Удалим стоп-слова из словаря и выведем новый топ-10 токенов (и количество встреч) по популярности"
   ]
  },
  {
   "cell_type": "code",
   "execution_count": 22,
   "metadata": {
    "id": "EDVU70WfwH59"
   },
   "outputs": [],
   "source": [
    "import nltk\n",
    "from nltk.corpus import stopwords\n",
    "\n",
    "nltk.download(\"stopwords\", quiet=True)\n",
    "stop_words = stopwords.words('english')\n",
    "\n",
    "full_text = ' '.join(train.OriginalTweet.values) #объединяем в полный текст\n",
    "full_text = [word.lower() for word in full_text.split() if not word.lower() in stop_words]\n",
    "cnt = Counter(full_text) #подсчет слов для создания словаря частотности\n",
    "freq_dict = dict(cnt)"
   ]
  },
  {
   "cell_type": "code",
   "execution_count": 15,
   "metadata": {
    "colab": {
     "base_uri": "https://localhost:8080/"
    },
    "id": "gQ8nnnjxwbnK",
    "outputId": "f4cf722b-941b-4d33-e335-66984906bdff"
   },
   "outputs": [
    {
     "name": "stdout",
     "output_type": "stream",
     "text": [
      "#coronavirus - 8223\n",
      "prices - 3891\n",
      "food - 3820\n",
      "grocery - 3469\n",
      "supermarket - 3288\n",
      "people - 3175\n",
      "covid-19 - 3173\n",
      "store - 3155\n",
      "#covid19 - 2471\n",
      "&amp; - 2314\n"
     ]
    }
   ],
   "source": [
    "top_words = sorted(freq_dict, key = freq_dict.get, reverse = True)[:10]\n",
    "for word in top_words:\n",
    "  print(word,'-', freq_dict[word])"
   ]
  },
  {
   "cell_type": "code",
   "execution_count": null,
   "metadata": {
    "id": "8csSAdgTsnFx"
   },
   "outputs": [],
   "source": [
    "#Другой способ (с циклами)\n",
    "#import nltk\n",
    "#from nltk.corpus import stopwords\n",
    "\n",
    "#nltk.download(\"stopwords\", quiet=True)\n",
    "#freq_dict_updated = {}\n",
    "#stop_words = stopwords.words('english')\n",
    "#for word in freq_dict:\n",
    "#  if word not in stop_words:\n",
    "#    freq_dict_updated[word] = freq_dict[word]\n",
    "#top_words = sorted(freq_dict_updated, key = freq_dict_updated.get, reverse = True)[:10]\n",
    "#for word in top_words:\n",
    "#  print(word,'-', freq_dict_updated[word])"
   ]
  },
  {
   "cell_type": "markdown",
   "metadata": {
    "id": "LZH0x2Lzs-Dh"
   },
   "source": [
    "**Ответ:**  Так как удалили стоп-слова, то топ популярных слов поменялся. Также остались теги с коронавирусом, так как эти твиты о нем, также появились другие слова, отражаюшие наиболее волнующие в то время темы - проблема с походом в магазины и покупкой еды в условиях изоляции"
   ]
  },
  {
   "cell_type": "markdown",
   "metadata": {
    "id": "TKSGRyI-uor0"
   },
   "source": [
    "Также выведем 20 самых непопулярных слов (если самых непопулярных слов больше выведите любые 20 из них) Почему эти токены непопулярны, требуется ли как-то дополнительно работать с ними?"
   ]
  },
  {
   "cell_type": "code",
   "execution_count": 16,
   "metadata": {
    "colab": {
     "base_uri": "https://localhost:8080/"
    },
    "id": "I0Zt7baYxGwG",
    "outputId": "b285baa6-19ef-46bd-e8a3-093943385a9f"
   },
   "outputs": [
    {
     "name": "stdout",
     "output_type": "stream",
     "text": [
      "https://t.co/1m881cwfuv - 1\n",
      "happy.. - 1\n",
      "https://t.co/z0intks34x - 1\n",
      "mnuchinãâs - 1\n",
      "brink. - 1\n",
      "https://t.co/jmobv8z0u0 - 1\n",
      "university's - 1\n",
      "teaching.) - 1\n",
      "@catholicpres - 1\n",
      "@catholicuniv - 1\n",
      "https://t.co/evqby035wf - 1\n",
      "https://t.co/riqrhxxeim - 1\n",
      "@@ballardspahrll - 1\n",
      "#aca - 1\n",
      "easier...take - 1\n",
      "ãânecessaryãâ - 1\n",
      "https://t.co/0fmsmlgepm - 1\n",
      "husted: - 1\n",
      "irishman - 1\n",
      "#happystpatricksday! - 1\n"
     ]
    }
   ],
   "source": [
    "least_words = sorted(freq_dict, key = freq_dict.get)[:20]\n",
    "for word in least_words:\n",
    "  print(word,'-', freq_dict[word])"
   ]
  },
  {
   "cell_type": "code",
   "execution_count": null,
   "metadata": {
    "id": "moArbwfvun9t"
   },
   "outputs": [],
   "source": [
    "#Продолжение варианта с циклами\n",
    "#least_words = sorted(freq_dict_updated, key = freq_dict_updated.get)[:20]\n",
    "#for word in least_words:\n",
    "#  print(word,'-', freq_dict_updated[word])"
   ]
  },
  {
   "cell_type": "markdown",
   "metadata": {
    "id": "uRp3J1gQunlR"
   },
   "source": [
    "**Ответ:** Наименее популярные токены включают в себя по большей части ссылки или обращения к другим пользователям по их никнейму. Так как эти обращения не несут в себе никакой дополнительной информации, но увеличивают объем словаря, лучше их удалить из анализа\n",
    "\n"
   ]
  },
  {
   "cell_type": "markdown",
   "metadata": {
    "id": "wx9LQOSPzvjV"
   },
   "source": [
    "Теперь воспользуемся токенайзером получше - TweetTokenizer из библиотеки nltk. Применим его и посмотрим на топ-10 популярных слов"
   ]
  },
  {
   "cell_type": "code",
   "execution_count": 23,
   "metadata": {
    "id": "N7wM4G24tPUv"
   },
   "outputs": [],
   "source": [
    "from nltk.tokenize import TweetTokenizer\n",
    "full_text = ' '.join(train.OriginalTweet.values) #объединяем в полный текст, чтобы составить полный словарь\n",
    "\n",
    "tw = TweetTokenizer()\n",
    "list_of_words = tw.tokenize(full_text)\n",
    "cnt = Counter(list_of_words) #подсчет слов для создания словаря частотности\n",
    "freq_dict = dict(cnt)"
   ]
  },
  {
   "cell_type": "code",
   "execution_count": 18,
   "metadata": {
    "colab": {
     "base_uri": "https://localhost:8080/"
    },
    "id": "fX7ariMkuYZG",
    "outputId": "09e61def-bb3a-4949-d684-af4728d1b716"
   },
   "outputs": [
    {
     "name": "stdout",
     "output_type": "stream",
     "text": [
      "the - 24337\n",
      ". - 24108\n",
      "to - 22933\n",
      ", - 17571\n",
      "and - 14354\n",
      "of - 12904\n",
      "a - 11045\n",
      "in - 10573\n",
      "? - 9524\n",
      "for - 8228\n"
     ]
    }
   ],
   "source": [
    "top_words = sorted(freq_dict, key = freq_dict.get, reverse = True)[:10]\n",
    "for word in top_words:\n",
    "  print(word,'-', freq_dict[word])"
   ]
  },
  {
   "cell_type": "markdown",
   "metadata": {
    "id": "50eVUnJN1Zxl"
   },
   "source": [
    "**Ответ:** Так как стоп-слова еще не были убраны, они являются наиболее часто используемыми токенами. Отличие заключается в том, что TweetTokenizer еще отдельно выделил пунктуацию от слов, в случае использования split мы разделяли по пробелу, поэтому пунктуация была склеена со словами"
   ]
  },
  {
   "cell_type": "markdown",
   "metadata": {
    "id": "1gqQgiMs11bs"
   },
   "source": [
    "Удалим из словаря стоп-слова и пунктуацию, посмотрим на новый топ-10 слов с количеством встреч, есть ли теперь в нем что-то не похожее на слова?"
   ]
  },
  {
   "cell_type": "code",
   "execution_count": 24,
   "metadata": {
    "id": "0yHWdFrp0Mup"
   },
   "outputs": [],
   "source": [
    "from string import punctuation\n",
    "cnt = Counter([word.lower() for word in list_of_words if word.lower() not in punctuation and word.lower() not in stop_words])\n",
    "freq_dict = dict(cnt)"
   ]
  },
  {
   "cell_type": "code",
   "execution_count": 20,
   "metadata": {
    "colab": {
     "base_uri": "https://localhost:8080/"
    },
    "id": "zaeHXZfayXiw",
    "outputId": "0fadcf03-f4ed-49ca-f7ea-5e355c25ac5f"
   },
   "outputs": [
    {
     "name": "stdout",
     "output_type": "stream",
     "text": [
      "#coronavirus - 8808\n",
      "â - 7415\n",
      " - 7311\n",
      "19 - 7167\n",
      "covid - 6253\n",
      "prices - 4601\n",
      " - 4372\n",
      "food - 4367\n",
      "store - 3877\n",
      "supermarket - 3805\n"
     ]
    }
   ],
   "source": [
    "top_words = sorted(freq_dict, key = freq_dict.get, reverse = True)[:10]\n",
    "for word in top_words:\n",
    "  print(word,'-', freq_dict[word])"
   ]
  },
  {
   "cell_type": "markdown",
   "metadata": {
    "id": "8ZJqXELP_Yxy"
   },
   "source": [
    "**Ответ:** Появляются слова, но еще много присутствует не несущих смысловой нагрузки знаков"
   ]
  },
  {
   "cell_type": "markdown",
   "metadata": {
    "id": "rzXjMsSB_kXB"
   },
   "source": [
    "Удалим из словаря токены из одного символа, с позицией в таблице Unicode 128 и более (`ord(x) >= 128`)\n",
    "\n",
    "Выведем топ-10 самых популярных и топ-20 непопулярных слов. Чем полученные топы отличаются от итоговых топов, полученных при использовании токенизации по пробелам? Что теперь лучше, а что хуже?"
   ]
  },
  {
   "cell_type": "code",
   "execution_count": 21,
   "metadata": {
    "id": "1695hlkS_1-J"
   },
   "outputs": [],
   "source": [
    "#cnt = Counter([word.lower() for word in list_of_words if word.lower() not in punctuation and word.lower() not in stop_words and len(word) != 1 and not ord(word) >= 128])\n",
    "list_of_words_new = []\n",
    "for word in list_of_words:\n",
    "  if len(word) == 1 and ord(word) >= 128:\n",
    "    continue\n",
    "  elif word.lower() not in punctuation and word.lower() not in stop_words:\n",
    "    list_of_words_new.append(word.lower())\n",
    "\n",
    "cnt = Counter(list_of_words_new)\n",
    "freq_dict = dict(cnt)"
   ]
  },
  {
   "cell_type": "code",
   "execution_count": 22,
   "metadata": {
    "colab": {
     "base_uri": "https://localhost:8080/"
    },
    "id": "CLADCY0V0ymT",
    "outputId": "d09ef2ff-9ae4-4af1-db7d-6c1aa19dc8f3"
   },
   "outputs": [
    {
     "name": "stdout",
     "output_type": "stream",
     "text": [
      "#coronavirus - 8808\n",
      "19 - 7167\n",
      "covid - 6253\n",
      "prices - 4601\n",
      "food - 4367\n",
      "store - 3877\n",
      "supermarket - 3805\n",
      "grocery - 3523\n",
      "people - 3463\n",
      "#covid19 - 2589\n"
     ]
    }
   ],
   "source": [
    "top_words = sorted(freq_dict, key = freq_dict.get, reverse = True)[:10]\n",
    "for word in top_words:\n",
    "  print(word,'-', freq_dict[word])"
   ]
  },
  {
   "cell_type": "markdown",
   "metadata": {
    "id": "KzjHAKIlDvc6"
   },
   "source": [
    "**Ответ:** Теперь убрана вся пунктуация и не имеющие смысла знаки, оставлены только слова со смыслом. Также так как в случае с split пунктуация была приклеена к слову, то слова, например, \"prices,\" и \"prices\", считались разными, в случае с TweetTokenizator эта проблема исправлена, поэтому частота слова увеличилась"
   ]
  },
  {
   "cell_type": "markdown",
   "metadata": {
    "id": "EcDf9_6HB2zm"
   },
   "source": [
    "Выведем топ-10 популярных хештегов с количеством встреч"
   ]
  },
  {
   "cell_type": "code",
   "execution_count": 23,
   "metadata": {
    "colab": {
     "base_uri": "https://localhost:8080/"
    },
    "id": "zk4fygCUBw3l",
    "outputId": "18dee302-f04c-4838-82cb-dc1dc85f1a1c"
   },
   "outputs": [
    {
     "name": "stdout",
     "output_type": "stream",
     "text": [
      "#coronavirus - 8808\n",
      "#covid19 - 2589\n",
      "#covid_19 - 1734\n",
      "#covid2019 - 946\n",
      "#toiletpaper - 744\n",
      "#covid - 641\n",
      "#socialdistancing - 465\n",
      "#coronacrisis - 448\n",
      "#pandemic - 257\n",
      "#coronaviruspandemic - 249\n"
     ]
    }
   ],
   "source": [
    "hashtags = dict(filter(lambda x: x[0].startswith('#'), freq_dict.items()))\n",
    "top_hashtags = sorted(hashtags, key = hashtags.get, reverse = True)[:10]\n",
    "for word in top_hashtags:\n",
    "  print(word,'-', hashtags[word])"
   ]
  },
  {
   "cell_type": "markdown",
   "metadata": {
    "id": "-6NeNWBkDxM7"
   },
   "source": [
    "**Ответ:** Так как твиты специально собраны на тему коронавируса, то преобладают хэштеги, связанные с коронавирусом и пандемией. Помимо этого, включен хэштэг с туалетной бумагой, так как это было насущной проблемой во время пандемии"
   ]
  },
  {
   "cell_type": "markdown",
   "metadata": {
    "id": "LLYBg7caD5GA"
   },
   "source": [
    "То же самое проделаем для ссылок на сайт https://t.co Сравнима ли популярность ссылок с популярностью хештегов? Будет ли информация о ссылке на конкретную страницу полезна?"
   ]
  },
  {
   "cell_type": "code",
   "execution_count": 24,
   "metadata": {
    "colab": {
     "base_uri": "https://localhost:8080/"
    },
    "id": "MXbm1oeaCK9S",
    "outputId": "e089ef72-3531-4ee1-db1f-515d4247015e"
   },
   "outputs": [
    {
     "name": "stdout",
     "output_type": "stream",
     "text": [
      "https://t.co/oxa7swtond - 5\n",
      "https://t.co/gp3eusapl8 - 4\n",
      "https://t.co/deftrui1pfãâ - 3\n",
      "https://t.co/wrlhyzizaa - 3\n",
      "https://t.co/kuwipf1kqw - 3\n",
      "https://t.co/zjnrx6dkkn - 3\n",
      "https://t.co/3gbbdpdjat - 3\n",
      "https://t.co/e2znxajpre - 3\n",
      "https://t.co/catkegayoy - 3\n",
      "https://t.co/g63rp042ho - 3\n"
     ]
    }
   ],
   "source": [
    "urls = dict(filter(lambda x: x[0].startswith('https://t.co'), freq_dict.items()))\n",
    "top_urls = sorted(urls, key = urls.get, reverse = True)[:10]\n",
    "for word in top_urls:\n",
    "  print(word,'-', urls[word])"
   ]
  },
  {
   "cell_type": "markdown",
   "metadata": {
    "id": "at6lRYZ8A07N"
   },
   "source": [
    "**Ответ:** Ссылки используются менее часто, чем хештеги. Они несует мало полезной информации, поэтому их лучше убрать из анализа"
   ]
  },
  {
   "cell_type": "markdown",
   "metadata": {
    "id": "IOGdUU1kBU1D"
   },
   "source": [
    "Используем опыт предыдущих экспериментов и напишем собственный токенайзер, улучшив TweetTokenizer. Функция tokenize должна:\n",
    "\n",
    "\n",
    "\n",
    "*   Привести текст в нижний регистр\n",
    "*   Применить TweetTokenizer для изначального выделения токенов\n",
    "*   Удалить стоп-слова, пунктуацию, токены из одного символа, с позицией в таблице Unicode 128 и более и ссылки на t.co\n",
    "\n"
   ]
  },
  {
   "cell_type": "code",
   "execution_count": 25,
   "metadata": {
    "id": "6f2NSI0F5R_5"
   },
   "outputs": [],
   "source": [
    "def custom_tokenizer(text):\n",
    "\n",
    "  text = text.lower()\n",
    "\n",
    "  tw = TweetTokenizer()\n",
    "  text = tw.tokenize(text)\n",
    "\n",
    "  tokens = []\n",
    "  for word in text:\n",
    "    if (len(word) == 1 and ord(word) >= 128) or word.startswith('https://t.co'):\n",
    "      continue\n",
    "    elif word not in punctuation and word not in stop_words:\n",
    "      tokens.append(word.lower())\n",
    "\n",
    "  return tokens"
   ]
  },
  {
   "cell_type": "code",
   "execution_count": 26,
   "metadata": {
    "colab": {
     "base_uri": "https://localhost:8080/"
    },
    "id": "ctEsB6xkFrrK",
    "outputId": "63b52161-1d0f-4989-d8da-ada4db20e3bd"
   },
   "outputs": [
    {
     "data": {
      "text/plain": [
       "['sample', 'text', '@sample_text', '#sampletext']"
      ]
     },
     "execution_count": 26,
     "metadata": {},
     "output_type": "execute_result"
    }
   ],
   "source": [
    "custom_tokenizer('This is sample text!!!! @Sample_text I, \\x92\\x92 https://t.co/sample  #sampletext')"
   ]
  },
  {
   "cell_type": "markdown",
   "metadata": {
    "id": "wURVABmXHk97"
   },
   "source": [
    "## Задание 3 Векторизация текстов (2 балла)"
   ]
  },
  {
   "cell_type": "markdown",
   "metadata": {
    "id": "H44iXkoHIQfN"
   },
   "source": [
    "Обучим CountVectorizer с использованием custom_tokenizer в качестве токенайзера"
   ]
  },
  {
   "cell_type": "code",
   "execution_count": 26,
   "metadata": {
    "colab": {
     "base_uri": "https://localhost:8080/"
    },
    "id": "gHn_limQl3BI",
    "outputId": "21cde746-1fa5-49e4-f2dc-509f56d9713c"
   },
   "outputs": [
    {
     "name": "stdout",
     "output_type": "stream",
     "text": [
      "45308\n"
     ]
    }
   ],
   "source": [
    "from sklearn.feature_extraction.text import CountVectorizer\n",
    "\n",
    "cv = CountVectorizer(tokenizer = custom_tokenizer)\n",
    "train_transformed = cv.fit_transform(train.OriginalTweet)\n",
    "test_transformed = cv.transform(test.OriginalTweet)\n",
    "print(len(cv.vocabulary_))"
   ]
  },
  {
   "cell_type": "markdown",
   "metadata": {
    "id": "gsfmaSGoItUm"
   },
   "source": [
    "**Ответ:** Размер словаря меньше, так как в изначальном словаре был использован split и текст не был очищен от бесмысленных элементов"
   ]
  },
  {
   "cell_type": "markdown",
   "metadata": {
    "id": "lm6UHNmqKZT0"
   },
   "source": [
    "Посмотрим на какой-нибудь конкретный твитт:"
   ]
  },
  {
   "cell_type": "code",
   "execution_count": 29,
   "metadata": {
    "colab": {
     "base_uri": "https://localhost:8080/"
    },
    "id": "aJVjjfqOJh8m",
    "outputId": "f02cde67-529e-4010-c3c4-4183b19edb74"
   },
   "outputs": [
    {
     "data": {
      "text/plain": [
       "('Nice one @SkyNews lets not panic but show ppl in france queueing for food!!! #CoronavirusOutbreak #COVID2019 brainless!! Ffs',\n",
       " 0)"
      ]
     },
     "execution_count": 29,
     "metadata": {},
     "output_type": "execute_result"
    }
   ],
   "source": [
    "ind = 9023\n",
    "train.iloc[ind]['OriginalTweet'], train.iloc[ind]['Sentiment']"
   ]
  },
  {
   "cell_type": "markdown",
   "metadata": {
    "id": "PBMIHBI5KdaS"
   },
   "source": [
    "Автор твитта не доволен ситуацией с едой во Франции и текст имеет резко негативную окраску.\n",
    "\n",
    "Применим обученный CountVectorizer для векторизации данного текста, и попытаемся определить самый важный токен и самый неважный токен (токен, компонента которого в векторе максимальна/минимальна, без учета 0)"
   ]
  },
  {
   "cell_type": "code",
   "execution_count": 31,
   "metadata": {
    "id": "xizS5ovrWJMR"
   },
   "outputs": [],
   "source": [
    "#text = train.iloc[ind]['OriginalTweet'].lower()\n",
    "text = train.iloc[ind]['OriginalTweet']"
   ]
  },
  {
   "cell_type": "code",
   "execution_count": 59,
   "metadata": {
    "colab": {
     "base_uri": "https://localhost:8080/"
    },
    "id": "yiCx7yLkWD7D",
    "outputId": "020a85a5-51f3-4ba6-c1cb-c5ade2284acd"
   },
   "outputs": [
    {
     "name": "stdout",
     "output_type": "stream",
     "text": [
      "Самые важные токены:\n",
      "['#coronavirusoutbreak' '#covid2019' '@skynews' 'brainless' 'ffs' 'food'\n",
      " 'france' 'lets' 'nice' 'one' 'panic' 'ppl' 'queueing' 'show']\n"
     ]
    }
   ],
   "source": [
    "frequency_of_word = cv.transform([text]).toarray()[0] #результат применения CountVectorizer\n",
    "important = cv.get_feature_names_out()[np.where(frequency_of_word == np.max(frequency_of_word))] #токены, которые имеют максимальную компоненту в векторе\n",
    "print('Самые важные токены:')\n",
    "print(important)"
   ]
  },
  {
   "cell_type": "code",
   "execution_count": 45,
   "metadata": {
    "colab": {
     "base_uri": "https://localhost:8080/"
    },
    "id": "kkhkiyKGXD48",
    "outputId": "233d42e5-c708-4670-c50c-bec839fd45af"
   },
   "outputs": [
    {
     "name": "stdout",
     "output_type": "stream",
     "text": [
      "Токены, компонента которых в векторе минимальна, без учета 0:\n",
      "[]\n"
     ]
    }
   ],
   "source": [
    "print('Токены, компонента которых в векторе минимальна, без учета 0:')\n",
    "print(cv.get_feature_names_out()[np.where((frequency_of_word == np.min(frequency_of_word)) * (frequency_of_word != 0))] ) #их нет, потому что в тексте все слова встречаются максимум по одному разу (токены с макс компонентой)"
   ]
  },
  {
   "cell_type": "code",
   "execution_count": 48,
   "metadata": {
    "colab": {
     "base_uri": "https://localhost:8080/"
    },
    "id": "R1mDkJmJYJoW",
    "outputId": "51171ddf-c84d-44b1-8274-ec1fba2bf578"
   },
   "outputs": [
    {
     "data": {
      "text/plain": [
       "array([0, 1])"
      ]
     },
     "execution_count": 48,
     "metadata": {},
     "output_type": "execute_result"
    }
   ],
   "source": [
    "np.unique(frequency_of_word) #то есть слова либо один раз встречаются, либо не встречаются вообще"
   ]
  },
  {
   "cell_type": "code",
   "execution_count": 49,
   "metadata": {
    "colab": {
     "base_uri": "https://localhost:8080/"
    },
    "id": "tY5lhaCaYXqy",
    "outputId": "53817dde-8e6b-43d1-a532-02a1c8ef19db"
   },
   "outputs": [
    {
     "data": {
      "text/plain": [
       "0"
      ]
     },
     "execution_count": 49,
     "metadata": {},
     "output_type": "execute_result"
    }
   ],
   "source": [
    "np.min(frequency_of_word)"
   ]
  },
  {
   "cell_type": "code",
   "execution_count": 60,
   "metadata": {
    "colab": {
     "base_uri": "https://localhost:8080/"
    },
    "id": "V27e-ACiF_7n",
    "outputId": "cfab796d-1ca1-482e-9565-11dbdd319984"
   },
   "outputs": [
    {
     "name": "stdout",
     "output_type": "stream",
     "text": [
      "Наименее важные элементы в твите:\n"
     ]
    },
    {
     "data": {
      "text/plain": [
       "['not', 'but', 'in', 'for']"
      ]
     },
     "execution_count": 60,
     "metadata": {},
     "output_type": "execute_result"
    }
   ],
   "source": [
    "print('Наименее важные элементы в твите:')\n",
    "not_imp = [word for word in text.lower().split() if word not in important and '!' not in word] #наименее важные элементы в данном твите\n",
    "not_imp"
   ]
  },
  {
   "cell_type": "markdown",
   "metadata": {
    "id": "TpEsl1k_NF4T"
   },
   "source": [
    "**Ответ:** В данном твите получилось так, что либо слово из твита не является токеном (то есть это, например, стоп-слово и оно убирается), либо слово встречается в твите только один раз. Тогда получается, что у всех значимых элементов твита встречаемость 1, все остальные значимые слова (из общего словаря) имеют значимость 0. Поэтому наиболее значимые токены выделились плохо, потому что так как в этом твите каждое слово используется по одному разу, к частоте встречаемости слов апеллировать бессмысленно"
   ]
  },
  {
   "cell_type": "markdown",
   "metadata": {
    "id": "w4DsEQpLO3J6"
   },
   "source": [
    "Теперь применим TfidfVectorizer и  определим самый важный/неважный токены. Хорошо ли определились, почему?"
   ]
  },
  {
   "cell_type": "code",
   "execution_count": 27,
   "metadata": {
    "id": "uSNzdK3ENGB3"
   },
   "outputs": [],
   "source": [
    "from sklearn.feature_extraction.text import TfidfVectorizer\n",
    "\n",
    "tfidf_vec = TfidfVectorizer(tokenizer = custom_tokenizer)\n",
    "train_transformed = tfidf_vec.fit_transform(train.OriginalTweet)"
   ]
  },
  {
   "cell_type": "code",
   "execution_count": 62,
   "metadata": {
    "id": "AwrSR2SgIGUb"
   },
   "outputs": [],
   "source": [
    "frequency_of_word = tfidf_vec.transform([text]).toarray()[0]"
   ]
  },
  {
   "cell_type": "code",
   "execution_count": 63,
   "metadata": {
    "colab": {
     "base_uri": "https://localhost:8080/",
     "height": 52
    },
    "id": "b39Q-Eh5IPz8",
    "outputId": "f4eb7a76-f82c-4bfc-d248-9bcaaaa88fe3"
   },
   "outputs": [
    {
     "name": "stdout",
     "output_type": "stream",
     "text": [
      "Наиболее важный токен:\n"
     ]
    },
    {
     "data": {
      "application/vnd.google.colaboratory.intrinsic+json": {
       "type": "string"
      },
      "text/plain": [
       "'brainless'"
      ]
     },
     "execution_count": 63,
     "metadata": {},
     "output_type": "execute_result"
    }
   ],
   "source": [
    "print('Наиболее важный токен:')\n",
    "tfidf_vec.get_feature_names_out()[np.where(frequency_of_word == np.max(frequency_of_word))][0] #самый важный токен"
   ]
  },
  {
   "cell_type": "code",
   "execution_count": 64,
   "metadata": {
    "colab": {
     "base_uri": "https://localhost:8080/",
     "height": 52
    },
    "id": "VyHnq_HsJOM4",
    "outputId": "865d6d99-0b81-499b-a128-4eba559ed31c"
   },
   "outputs": [
    {
     "name": "stdout",
     "output_type": "stream",
     "text": [
      "Наименее важный токен:\n"
     ]
    },
    {
     "data": {
      "application/vnd.google.colaboratory.intrinsic+json": {
       "type": "string"
      },
      "text/plain": [
       "'food'"
      ]
     },
     "execution_count": 64,
     "metadata": {},
     "output_type": "execute_result"
    }
   ],
   "source": [
    "print('Наименее важный токен:')\n",
    "tfidf_vec.get_feature_names_out()[np.where(frequency_of_word == np.min(frequency_of_word[np.where(frequency_of_word != 0)]))[0]][0] #наименее важный токен"
   ]
  },
  {
   "cell_type": "markdown",
   "metadata": {
    "id": "NYao_UhqQADm"
   },
   "source": [
    "**Ответ:** В случае TfidfVectorize самый важный токен определился лучше, потому что этот токен показывает негативное отношение автора и помогает отнести твит к правильной эмоциональной окраске. То, является ли 'food' наименее важным токеном, неоднозначно, так как этот токен является главным в определении смысловой тематики твита, поэтому он несет большую смысловую ценность, хотя и определен как самый неважный"
   ]
  },
  {
   "cell_type": "markdown",
   "metadata": {
    "id": "LGRJPqfWSesQ"
   },
   "source": [
    "Найдем какой-нибудь положительно окрашенный твитт, где TfidfVectorizer хорошо (полезно для определения окраски) выделяет важный токен\n",
    "\n",
    "*Подсказка:* явно положительные твитты можно искать при помощи положительных слов (good, great, amazing и т. д.)"
   ]
  },
  {
   "cell_type": "code",
   "execution_count": 65,
   "metadata": {
    "colab": {
     "base_uri": "https://localhost:8080/",
     "height": 424
    },
    "id": "bRbQ2CHiSuJI",
    "outputId": "aa82ec24-bddb-4d4a-a467-d8797befee63"
   },
   "outputs": [
    {
     "data": {
      "application/vnd.google.colaboratory.intrinsic+json": {
       "repr_error": "0",
       "type": "dataframe"
      },
      "text/html": [
       "\n",
       "  <div id=\"df-4e6a0e2d-84e5-4bad-8d32-3913eb8403ed\" class=\"colab-df-container\">\n",
       "    <div>\n",
       "<style scoped>\n",
       "    .dataframe tbody tr th:only-of-type {\n",
       "        vertical-align: middle;\n",
       "    }\n",
       "\n",
       "    .dataframe tbody tr th {\n",
       "        vertical-align: top;\n",
       "    }\n",
       "\n",
       "    .dataframe thead th {\n",
       "        text-align: right;\n",
       "    }\n",
       "</style>\n",
       "<table border=\"1\" class=\"dataframe\">\n",
       "  <thead>\n",
       "    <tr style=\"text-align: right;\">\n",
       "      <th></th>\n",
       "      <th>UserName</th>\n",
       "      <th>ScreenName</th>\n",
       "      <th>Location</th>\n",
       "      <th>TweetAt</th>\n",
       "      <th>OriginalTweet</th>\n",
       "      <th>Sentiment</th>\n",
       "    </tr>\n",
       "  </thead>\n",
       "  <tbody>\n",
       "    <tr>\n",
       "      <th>4583</th>\n",
       "      <td>9362</td>\n",
       "      <td>54314</td>\n",
       "      <td>Moulton, England</td>\n",
       "      <td>19-03-2020</td>\n",
       "      <td>Hearing so many stories of NHS heroes Teachers...</td>\n",
       "      <td>1</td>\n",
       "    </tr>\n",
       "    <tr>\n",
       "      <th>8221</th>\n",
       "      <td>13787</td>\n",
       "      <td>58739</td>\n",
       "      <td>Unknown</td>\n",
       "      <td>20-03-2020</td>\n",
       "      <td>Let s just take a minute to say THANK YOU also...</td>\n",
       "      <td>1</td>\n",
       "    </tr>\n",
       "    <tr>\n",
       "      <th>3183</th>\n",
       "      <td>7654</td>\n",
       "      <td>52606</td>\n",
       "      <td>London, England</td>\n",
       "      <td>18-03-2020</td>\n",
       "      <td>Back at the \"Frontline\"\\r\\r\\nA massive shout o...</td>\n",
       "      <td>1</td>\n",
       "    </tr>\n",
       "    <tr>\n",
       "      <th>24347</th>\n",
       "      <td>33577</td>\n",
       "      <td>78529</td>\n",
       "      <td>Unknown</td>\n",
       "      <td>05-04-2020</td>\n",
       "      <td>Massive thanks to @waitrose for my delivery of...</td>\n",
       "      <td>1</td>\n",
       "    </tr>\n",
       "    <tr>\n",
       "      <th>3281</th>\n",
       "      <td>7772</td>\n",
       "      <td>52724</td>\n",
       "      <td>Nairobi, Kenya</td>\n",
       "      <td>18-03-2020</td>\n",
       "      <td>Crisp clean fresh air perfect ambience Covid 1...</td>\n",
       "      <td>1</td>\n",
       "    </tr>\n",
       "    <tr>\n",
       "      <th>...</th>\n",
       "      <td>...</td>\n",
       "      <td>...</td>\n",
       "      <td>...</td>\n",
       "      <td>...</td>\n",
       "      <td>...</td>\n",
       "      <td>...</td>\n",
       "    </tr>\n",
       "    <tr>\n",
       "      <th>8199</th>\n",
       "      <td>13757</td>\n",
       "      <td>58709</td>\n",
       "      <td>Wrightington</td>\n",
       "      <td>20-03-2020</td>\n",
       "      <td>The support from customers this week has been ...</td>\n",
       "      <td>1</td>\n",
       "    </tr>\n",
       "    <tr>\n",
       "      <th>11636</th>\n",
       "      <td>17911</td>\n",
       "      <td>62863</td>\n",
       "      <td>Australia</td>\n",
       "      <td>21-03-2020</td>\n",
       "      <td>Margot Robbie is an amazing actress, and love ...</td>\n",
       "      <td>1</td>\n",
       "    </tr>\n",
       "    <tr>\n",
       "      <th>23018</th>\n",
       "      <td>31918</td>\n",
       "      <td>76870</td>\n",
       "      <td>Karachi, Pakistan</td>\n",
       "      <td>04-04-2020</td>\n",
       "      <td>Face Mask (Pack of 5) ÃÂ Meeting the need of...</td>\n",
       "      <td>1</td>\n",
       "    </tr>\n",
       "    <tr>\n",
       "      <th>5208</th>\n",
       "      <td>10126</td>\n",
       "      <td>55078</td>\n",
       "      <td>Unknown</td>\n",
       "      <td>19-03-2020</td>\n",
       "      <td>There's some amazing work going on in the worl...</td>\n",
       "      <td>1</td>\n",
       "    </tr>\n",
       "    <tr>\n",
       "      <th>469</th>\n",
       "      <td>4365</td>\n",
       "      <td>49317</td>\n",
       "      <td>TaÃÂ¯wan</td>\n",
       "      <td>16-03-2020</td>\n",
       "      <td>#COVID19 19 A friend of mine in the US works a...</td>\n",
       "      <td>1</td>\n",
       "    </tr>\n",
       "  </tbody>\n",
       "</table>\n",
       "<p>68 rows × 6 columns</p>\n",
       "</div>\n",
       "    <div class=\"colab-df-buttons\">\n",
       "\n",
       "  <div class=\"colab-df-container\">\n",
       "    <button class=\"colab-df-convert\" onclick=\"convertToInteractive('df-4e6a0e2d-84e5-4bad-8d32-3913eb8403ed')\"\n",
       "            title=\"Convert this dataframe to an interactive table.\"\n",
       "            style=\"display:none;\">\n",
       "\n",
       "  <svg xmlns=\"http://www.w3.org/2000/svg\" height=\"24px\" viewBox=\"0 -960 960 960\">\n",
       "    <path d=\"M120-120v-720h720v720H120Zm60-500h600v-160H180v160Zm220 220h160v-160H400v160Zm0 220h160v-160H400v160ZM180-400h160v-160H180v160Zm440 0h160v-160H620v160ZM180-180h160v-160H180v160Zm440 0h160v-160H620v160Z\"/>\n",
       "  </svg>\n",
       "    </button>\n",
       "\n",
       "  <style>\n",
       "    .colab-df-container {\n",
       "      display:flex;\n",
       "      gap: 12px;\n",
       "    }\n",
       "\n",
       "    .colab-df-convert {\n",
       "      background-color: #E8F0FE;\n",
       "      border: none;\n",
       "      border-radius: 50%;\n",
       "      cursor: pointer;\n",
       "      display: none;\n",
       "      fill: #1967D2;\n",
       "      height: 32px;\n",
       "      padding: 0 0 0 0;\n",
       "      width: 32px;\n",
       "    }\n",
       "\n",
       "    .colab-df-convert:hover {\n",
       "      background-color: #E2EBFA;\n",
       "      box-shadow: 0px 1px 2px rgba(60, 64, 67, 0.3), 0px 1px 3px 1px rgba(60, 64, 67, 0.15);\n",
       "      fill: #174EA6;\n",
       "    }\n",
       "\n",
       "    .colab-df-buttons div {\n",
       "      margin-bottom: 4px;\n",
       "    }\n",
       "\n",
       "    [theme=dark] .colab-df-convert {\n",
       "      background-color: #3B4455;\n",
       "      fill: #D2E3FC;\n",
       "    }\n",
       "\n",
       "    [theme=dark] .colab-df-convert:hover {\n",
       "      background-color: #434B5C;\n",
       "      box-shadow: 0px 1px 3px 1px rgba(0, 0, 0, 0.15);\n",
       "      filter: drop-shadow(0px 1px 2px rgba(0, 0, 0, 0.3));\n",
       "      fill: #FFFFFF;\n",
       "    }\n",
       "  </style>\n",
       "\n",
       "    <script>\n",
       "      const buttonEl =\n",
       "        document.querySelector('#df-4e6a0e2d-84e5-4bad-8d32-3913eb8403ed button.colab-df-convert');\n",
       "      buttonEl.style.display =\n",
       "        google.colab.kernel.accessAllowed ? 'block' : 'none';\n",
       "\n",
       "      async function convertToInteractive(key) {\n",
       "        const element = document.querySelector('#df-4e6a0e2d-84e5-4bad-8d32-3913eb8403ed');\n",
       "        const dataTable =\n",
       "          await google.colab.kernel.invokeFunction('convertToInteractive',\n",
       "                                                    [key], {});\n",
       "        if (!dataTable) return;\n",
       "\n",
       "        const docLinkHtml = 'Like what you see? Visit the ' +\n",
       "          '<a target=\"_blank\" href=https://colab.research.google.com/notebooks/data_table.ipynb>data table notebook</a>'\n",
       "          + ' to learn more about interactive tables.';\n",
       "        element.innerHTML = '';\n",
       "        dataTable['output_type'] = 'display_data';\n",
       "        await google.colab.output.renderOutput(dataTable, element);\n",
       "        const docLink = document.createElement('div');\n",
       "        docLink.innerHTML = docLinkHtml;\n",
       "        element.appendChild(docLink);\n",
       "      }\n",
       "    </script>\n",
       "  </div>\n",
       "\n",
       "\n",
       "<div id=\"df-b38e6ebf-2d96-4bee-8347-bb25f90e03fd\">\n",
       "  <button class=\"colab-df-quickchart\" onclick=\"quickchart('df-b38e6ebf-2d96-4bee-8347-bb25f90e03fd')\"\n",
       "            title=\"Suggest charts\"\n",
       "            style=\"display:none;\">\n",
       "\n",
       "<svg xmlns=\"http://www.w3.org/2000/svg\" height=\"24px\"viewBox=\"0 0 24 24\"\n",
       "     width=\"24px\">\n",
       "    <g>\n",
       "        <path d=\"M19 3H5c-1.1 0-2 .9-2 2v14c0 1.1.9 2 2 2h14c1.1 0 2-.9 2-2V5c0-1.1-.9-2-2-2zM9 17H7v-7h2v7zm4 0h-2V7h2v10zm4 0h-2v-4h2v4z\"/>\n",
       "    </g>\n",
       "</svg>\n",
       "  </button>\n",
       "\n",
       "<style>\n",
       "  .colab-df-quickchart {\n",
       "      --bg-color: #E8F0FE;\n",
       "      --fill-color: #1967D2;\n",
       "      --hover-bg-color: #E2EBFA;\n",
       "      --hover-fill-color: #174EA6;\n",
       "      --disabled-fill-color: #AAA;\n",
       "      --disabled-bg-color: #DDD;\n",
       "  }\n",
       "\n",
       "  [theme=dark] .colab-df-quickchart {\n",
       "      --bg-color: #3B4455;\n",
       "      --fill-color: #D2E3FC;\n",
       "      --hover-bg-color: #434B5C;\n",
       "      --hover-fill-color: #FFFFFF;\n",
       "      --disabled-bg-color: #3B4455;\n",
       "      --disabled-fill-color: #666;\n",
       "  }\n",
       "\n",
       "  .colab-df-quickchart {\n",
       "    background-color: var(--bg-color);\n",
       "    border: none;\n",
       "    border-radius: 50%;\n",
       "    cursor: pointer;\n",
       "    display: none;\n",
       "    fill: var(--fill-color);\n",
       "    height: 32px;\n",
       "    padding: 0;\n",
       "    width: 32px;\n",
       "  }\n",
       "\n",
       "  .colab-df-quickchart:hover {\n",
       "    background-color: var(--hover-bg-color);\n",
       "    box-shadow: 0 1px 2px rgba(60, 64, 67, 0.3), 0 1px 3px 1px rgba(60, 64, 67, 0.15);\n",
       "    fill: var(--button-hover-fill-color);\n",
       "  }\n",
       "\n",
       "  .colab-df-quickchart-complete:disabled,\n",
       "  .colab-df-quickchart-complete:disabled:hover {\n",
       "    background-color: var(--disabled-bg-color);\n",
       "    fill: var(--disabled-fill-color);\n",
       "    box-shadow: none;\n",
       "  }\n",
       "\n",
       "  .colab-df-spinner {\n",
       "    border: 2px solid var(--fill-color);\n",
       "    border-color: transparent;\n",
       "    border-bottom-color: var(--fill-color);\n",
       "    animation:\n",
       "      spin 1s steps(1) infinite;\n",
       "  }\n",
       "\n",
       "  @keyframes spin {\n",
       "    0% {\n",
       "      border-color: transparent;\n",
       "      border-bottom-color: var(--fill-color);\n",
       "      border-left-color: var(--fill-color);\n",
       "    }\n",
       "    20% {\n",
       "      border-color: transparent;\n",
       "      border-left-color: var(--fill-color);\n",
       "      border-top-color: var(--fill-color);\n",
       "    }\n",
       "    30% {\n",
       "      border-color: transparent;\n",
       "      border-left-color: var(--fill-color);\n",
       "      border-top-color: var(--fill-color);\n",
       "      border-right-color: var(--fill-color);\n",
       "    }\n",
       "    40% {\n",
       "      border-color: transparent;\n",
       "      border-right-color: var(--fill-color);\n",
       "      border-top-color: var(--fill-color);\n",
       "    }\n",
       "    60% {\n",
       "      border-color: transparent;\n",
       "      border-right-color: var(--fill-color);\n",
       "    }\n",
       "    80% {\n",
       "      border-color: transparent;\n",
       "      border-right-color: var(--fill-color);\n",
       "      border-bottom-color: var(--fill-color);\n",
       "    }\n",
       "    90% {\n",
       "      border-color: transparent;\n",
       "      border-bottom-color: var(--fill-color);\n",
       "    }\n",
       "  }\n",
       "</style>\n",
       "\n",
       "  <script>\n",
       "    async function quickchart(key) {\n",
       "      const quickchartButtonEl =\n",
       "        document.querySelector('#' + key + ' button');\n",
       "      quickchartButtonEl.disabled = true;  // To prevent multiple clicks.\n",
       "      quickchartButtonEl.classList.add('colab-df-spinner');\n",
       "      try {\n",
       "        const charts = await google.colab.kernel.invokeFunction(\n",
       "            'suggestCharts', [key], {});\n",
       "      } catch (error) {\n",
       "        console.error('Error during call to suggestCharts:', error);\n",
       "      }\n",
       "      quickchartButtonEl.classList.remove('colab-df-spinner');\n",
       "      quickchartButtonEl.classList.add('colab-df-quickchart-complete');\n",
       "    }\n",
       "    (() => {\n",
       "      let quickchartButtonEl =\n",
       "        document.querySelector('#df-b38e6ebf-2d96-4bee-8347-bb25f90e03fd button');\n",
       "      quickchartButtonEl.style.display =\n",
       "        google.colab.kernel.accessAllowed ? 'block' : 'none';\n",
       "    })();\n",
       "  </script>\n",
       "</div>\n",
       "    </div>\n",
       "  </div>\n"
      ],
      "text/plain": [
       "       UserName  ScreenName           Location     TweetAt  \\\n",
       "4583       9362       54314   Moulton, England  19-03-2020   \n",
       "8221      13787       58739            Unknown  20-03-2020   \n",
       "3183       7654       52606    London, England  18-03-2020   \n",
       "24347     33577       78529            Unknown  05-04-2020   \n",
       "3281       7772       52724     Nairobi, Kenya  18-03-2020   \n",
       "...         ...         ...                ...         ...   \n",
       "8199      13757       58709      Wrightington   20-03-2020   \n",
       "11636     17911       62863          Australia  21-03-2020   \n",
       "23018     31918       76870  Karachi, Pakistan  04-04-2020   \n",
       "5208      10126       55078            Unknown  19-03-2020   \n",
       "469        4365       49317          TaÃÂ¯wan  16-03-2020   \n",
       "\n",
       "                                           OriginalTweet  Sentiment  \n",
       "4583   Hearing so many stories of NHS heroes Teachers...          1  \n",
       "8221   Let s just take a minute to say THANK YOU also...          1  \n",
       "3183   Back at the \"Frontline\"\\r\\r\\nA massive shout o...          1  \n",
       "24347  Massive thanks to @waitrose for my delivery of...          1  \n",
       "3281   Crisp clean fresh air perfect ambience Covid 1...          1  \n",
       "...                                                  ...        ...  \n",
       "8199   The support from customers this week has been ...          1  \n",
       "11636  Margot Robbie is an amazing actress, and love ...          1  \n",
       "23018  Face Mask (Pack of 5) ÃÂ Meeting the need of...          1  \n",
       "5208   There's some amazing work going on in the worl...          1  \n",
       "469    #COVID19 19 A friend of mine in the US works a...          1  \n",
       "\n",
       "[68 rows x 6 columns]"
      ]
     },
     "execution_count": 65,
     "metadata": {},
     "output_type": "execute_result"
    }
   ],
   "source": [
    "train[train['OriginalTweet'].apply(lambda x: 'amazing' in x) & (train['Sentiment'] == 1)]"
   ]
  },
  {
   "cell_type": "code",
   "execution_count": 66,
   "metadata": {
    "colab": {
     "base_uri": "https://localhost:8080/",
     "height": 35
    },
    "id": "jSjbKPCWk87K",
    "outputId": "28fb9a6d-3db0-4468-e9d2-595b3b7bddef"
   },
   "outputs": [
    {
     "data": {
      "application/vnd.google.colaboratory.intrinsic+json": {
       "type": "string"
      },
      "text/plain": [
       "'let s just take a minute to say thank you also to the amazing postal workers so many real people behind a click of online shopping and getting cards delivered thank   you   19'"
      ]
     },
     "execution_count": 66,
     "metadata": {},
     "output_type": "execute_result"
    }
   ],
   "source": [
    "ind = 8221\n",
    "text = train.loc[ind]['OriginalTweet'].lower()\n",
    "text"
   ]
  },
  {
   "cell_type": "code",
   "execution_count": 67,
   "metadata": {
    "id": "ZGPTGtEkLq1G"
   },
   "outputs": [],
   "source": [
    "frequency_of_word = tfidf_vec.transform([text]).toarray()[0]"
   ]
  },
  {
   "cell_type": "code",
   "execution_count": 68,
   "metadata": {
    "colab": {
     "base_uri": "https://localhost:8080/",
     "height": 35
    },
    "id": "JYNXkx1oLsKX",
    "outputId": "0e308a64-c145-4507-b76c-14244f44dfca"
   },
   "outputs": [
    {
     "data": {
      "application/vnd.google.colaboratory.intrinsic+json": {
       "type": "string"
      },
      "text/plain": [
       "'thank'"
      ]
     },
     "execution_count": 68,
     "metadata": {},
     "output_type": "execute_result"
    }
   ],
   "source": [
    "tfidf_vec.get_feature_names_out()[np.where(frequency_of_word == np.max(frequency_of_word))][0] #самый важный токен"
   ]
  },
  {
   "cell_type": "markdown",
   "metadata": {
    "id": "JTv9ST2_U6NA"
   },
   "source": [
    "**Ответ:** Так как твит о благодарности, то слово \"thank\" является наиболее важным по смыслу и наиболее лучшим образом отражающим положительную окраску твита"
   ]
  },
  {
   "cell_type": "markdown",
   "metadata": {
    "id": "JVEuZm8BHms6"
   },
   "source": [
    "## Задание 4 Обучение первых моделей (1 балл)"
   ]
  },
  {
   "cell_type": "markdown",
   "metadata": {
    "id": "JADkO3sfXdOG"
   },
   "source": [
    "Применим оба векторайзера для получения матриц с признаками текстов.  Выделим целевую переменную."
   ]
  },
  {
   "cell_type": "code",
   "execution_count": 28,
   "metadata": {
    "id": "DguoiXhCX2oN"
   },
   "outputs": [],
   "source": [
    "# выделение целевой переменной отдельно\n",
    "y_train = train.Sentiment\n",
    "y_test = test.Sentiment"
   ]
  },
  {
   "cell_type": "code",
   "execution_count": 29,
   "metadata": {
    "id": "Ae5bVc9cOLLw"
   },
   "outputs": [],
   "source": [
    "#применение CountVectorizer\n",
    "train_cv = cv.fit_transform(train.OriginalTweet)\n",
    "test_cv = cv.transform(test.OriginalTweet)"
   ]
  },
  {
   "cell_type": "code",
   "execution_count": 71,
   "metadata": {
    "id": "5cpaFlSBOo7H"
   },
   "outputs": [],
   "source": [
    "#применение TfidfVectorize\n",
    "train_tfidf = tfidf_vec.fit_transform(train.OriginalTweet)\n",
    "test_tfidf = tfidf_vec.transform(test.OriginalTweet)"
   ]
  },
  {
   "cell_type": "markdown",
   "metadata": {
    "id": "_FX1KSOfYSx4"
   },
   "source": [
    "Обучим логистическую регрессию на векторах из обоих векторайзеров. Посчитаем долю правильных ответов на обучающих и тестовых данных. Какой векторайзер показал лучший результат? Что можно сказать о моделях?"
   ]
  },
  {
   "cell_type": "code",
   "execution_count": 30,
   "metadata": {
    "colab": {
     "base_uri": "https://localhost:8080/"
    },
    "id": "-Tb3eh8UXJ6v",
    "outputId": "6942e286-6e76-49b3-ea64-3c6c16d4a1eb"
   },
   "outputs": [
    {
     "name": "stdout",
     "output_type": "stream",
     "text": [
      "CountVectorizer\n",
      "Train 0.9844510892780863\n",
      "Test 0.8672513454255532\n"
     ]
    }
   ],
   "source": [
    "from sklearn.linear_model import LogisticRegression\n",
    "from sklearn.metrics import accuracy_score\n",
    "\n",
    "clf = LogisticRegression(max_iter=200, random_state=42)\n",
    "clf.fit(train_cv, y_train)\n",
    "pred_train = clf.predict(train_cv)\n",
    "pred_test = clf.predict(test_cv)\n",
    "print('CountVectorizer')\n",
    "print('Train',accuracy_score(y_train, pred_train))\n",
    "print('Test',accuracy_score(y_test, pred_test))"
   ]
  },
  {
   "cell_type": "code",
   "execution_count": 73,
   "metadata": {
    "colab": {
     "base_uri": "https://localhost:8080/"
    },
    "id": "QpMuq2juPLM9",
    "outputId": "56f4d1ff-5491-4178-e435-12dccf09502f"
   },
   "outputs": [
    {
     "name": "stdout",
     "output_type": "stream",
     "text": [
      "TfidfVectorize\n",
      "Train 0.9254592054677488\n",
      "Test 0.8533984452860275\n"
     ]
    }
   ],
   "source": [
    "clf_tfidf = LogisticRegression(max_iter=200, random_state=42)\n",
    "clf_tfidf.fit(train_tfidf, y_train)\n",
    "pred_train = clf_tfidf.predict(train_tfidf)\n",
    "pred_test = clf_tfidf.predict(test_tfidf)\n",
    "print('TfidfVectorize')\n",
    "print('Train',accuracy_score(y_train, pred_train))\n",
    "print('Test',accuracy_score(y_test, pred_test))"
   ]
  },
  {
   "cell_type": "markdown",
   "metadata": {
    "id": "8y_wO7rCmv7K"
   },
   "source": [
    "**Ответ:** CountVectorizer лучше сработал и на тестовой, и на обучщей выборках, однако есть вероятность того, что он переобучился на обучающей выборке. У TfidfVectorize меньше переобучение, но и показатели хуже."
   ]
  },
  {
   "cell_type": "markdown",
   "metadata": {
    "id": "rSOR1i3mjrys"
   },
   "source": [
    "## Задание 5 Стемминг (0.5 балла)"
   ]
  },
  {
   "cell_type": "markdown",
   "metadata": {
    "id": "i6ONBWNPjuq-"
   },
   "source": [
    "Для уменьшения словаря можно использовать стемминг.\n",
    "\n",
    "Модифицируем написанный токенайзер, добавив в него стемминг с использованием SnowballStemmer. Обучим Count- и Tfidf- векторайзеры. Как изменился размер словаря?"
   ]
  },
  {
   "cell_type": "code",
   "execution_count": 31,
   "metadata": {
    "id": "oVfA2-iMkQBb"
   },
   "outputs": [],
   "source": [
    "from nltk.stem.snowball import SnowballStemmer\n",
    "\n",
    "def custom_stem_tokenizer(text):\n",
    "  text = text.lower()\n",
    "  tw = TweetTokenizer()\n",
    "  stemmer = SnowballStemmer(\"english\")\n",
    "  text = tw.tokenize(text)\n",
    "\n",
    "  tokens = []\n",
    "  for word in text:\n",
    "    if (len(word) == 1 and ord(word) >= 128) or word.startswith('https://t.co'):\n",
    "      continue\n",
    "    elif word not in punctuation and word not in stop_words:\n",
    "      tokens.append(word.lower())\n",
    "  tokens = [stemmer.stem(w) for w in tokens]\n",
    "  return tokens"
   ]
  },
  {
   "cell_type": "code",
   "execution_count": 75,
   "metadata": {
    "colab": {
     "base_uri": "https://localhost:8080/"
    },
    "id": "Jxobyu2DR3HK",
    "outputId": "650c14b3-556c-4929-8266-3f10cf42a5f9"
   },
   "outputs": [
    {
     "data": {
      "text/plain": [
       "['sampl', 'text', '@sample_text', '#sampletext', 'ad', 'word', 'check', 'stem']"
      ]
     },
     "execution_count": 75,
     "metadata": {},
     "output_type": "execute_result"
    }
   ],
   "source": [
    "custom_stem_tokenizer('This is sample text!!!! @Sample_text I, \\x92\\x92 https://t.co/sample  #sampletext adding more words to check stemming')"
   ]
  },
  {
   "cell_type": "code",
   "execution_count": 76,
   "metadata": {
    "colab": {
     "base_uri": "https://localhost:8080/"
    },
    "id": "zAvUTmaplzOS",
    "outputId": "864bd697-bd42-4f8b-9879-1324f811b1ed"
   },
   "outputs": [
    {
     "name": "stdout",
     "output_type": "stream",
     "text": [
      "36652\n"
     ]
    }
   ],
   "source": [
    "cv = CountVectorizer(tokenizer = custom_stem_tokenizer)\n",
    "train_cv = cv.fit_transform(train.OriginalTweet)\n",
    "test_cv = cv.transform(test.OriginalTweet)\n",
    "print(len(cv.vocabulary_))"
   ]
  },
  {
   "cell_type": "code",
   "execution_count": 78,
   "metadata": {
    "colab": {
     "base_uri": "https://localhost:8080/"
    },
    "id": "RUiJDo5ZSX8u",
    "outputId": "9a2c25f1-8b0f-4f5f-a848-1c25f5987445"
   },
   "outputs": [
    {
     "name": "stdout",
     "output_type": "stream",
     "text": [
      "36652\n"
     ]
    }
   ],
   "source": [
    "tfidf_vec = TfidfVectorizer(tokenizer = custom_stem_tokenizer)\n",
    "train_tfidf = tfidf_vec.fit_transform(train.OriginalTweet)\n",
    "test_tfidf = tfidf_vec.transform(test.OriginalTweet)\n",
    "print(len(tfidf_vec.vocabulary_))"
   ]
  },
  {
   "cell_type": "markdown",
   "metadata": {
    "id": "Oyzs5TaAoHP6"
   },
   "source": [
    "**Ответ** Размер словаря также уменьшился, так как раньше разные форма слова считались за разные слова, а теперь нет"
   ]
  },
  {
   "cell_type": "markdown",
   "metadata": {
    "id": "1OkncHI8oRmd"
   },
   "source": [
    "Обучим логистическую регрессию с использованием обоих векторайзеров. Изменилось ли качество? Есть ли смысл применять стемминг?"
   ]
  },
  {
   "cell_type": "code",
   "execution_count": 79,
   "metadata": {
    "colab": {
     "base_uri": "https://localhost:8080/"
    },
    "id": "ykZJPphEoZ5W",
    "outputId": "508200f8-cded-4f1c-df1d-a265df22ed3b"
   },
   "outputs": [
    {
     "name": "stdout",
     "output_type": "stream",
     "text": [
      "CountVectorizer\n",
      "Train 0.9718923536950022\n",
      "Test 0.8672513454255532\n"
     ]
    }
   ],
   "source": [
    "clf = LogisticRegression(max_iter=200, random_state=42)\n",
    "clf.fit(train_cv, y_train)\n",
    "pred_train = clf.predict(train_cv)\n",
    "pred_test = clf.predict(test_cv)\n",
    "print('CountVectorizer')\n",
    "print('Train',accuracy_score(y_train, pred_train))\n",
    "print('Test',accuracy_score(y_test, pred_test))"
   ]
  },
  {
   "cell_type": "code",
   "execution_count": 80,
   "metadata": {
    "colab": {
     "base_uri": "https://localhost:8080/"
    },
    "id": "qmj8wzIgTo6e",
    "outputId": "131bd24e-3e3b-4347-c1ee-7ecaf2381b69"
   },
   "outputs": [
    {
     "name": "stdout",
     "output_type": "stream",
     "text": [
      "TfidfVectorize\n",
      "Train 0.9158906450234943\n",
      "Test 0.8560892963922663\n"
     ]
    }
   ],
   "source": [
    "clf_tfidf = LogisticRegression(max_iter=200, random_state=42)\n",
    "clf_tfidf.fit(train_tfidf, y_train)\n",
    "pred_train = clf_tfidf.predict(train_tfidf)\n",
    "pred_test = clf_tfidf.predict(test_tfidf)\n",
    "print('TfidfVectorize')\n",
    "print('Train',accuracy_score(y_train, pred_train))\n",
    "print('Test',accuracy_score(y_test, pred_test))"
   ]
  },
  {
   "cell_type": "markdown",
   "metadata": {
    "id": "bCRlrODro0h8"
   },
   "source": [
    "**Ответ:** Доля правильных овтетов (accuracy) уменьшилась для обучающей выборки и почти не увеличилось для тестовой (только для TfidfVectorizer увеличиласьна 0.3%). Кажется, что смысла применять стемминг нет"
   ]
  },
  {
   "cell_type": "markdown",
   "metadata": {
    "id": "hYWGQNEDqLC-"
   },
   "source": [
    "## Задание  6 Работа с частотами (1.5 балла)"
   ]
  },
  {
   "cell_type": "markdown",
   "metadata": {
    "id": "8Hq-tl5mqUSn"
   },
   "source": [
    "Еще один способ уменьшить количество признаков - это использовать параметры min_df и max_df при построении векторайзера  эти параметры помогают ограничить требуемую частоту встречаемости токена в документах.\n",
    "\n",
    "По умолчанию берутся все токены, которые встретились хотя бы один раз.\n",
    "\n"
   ]
  },
  {
   "cell_type": "markdown",
   "metadata": {
    "id": "m1SiD4DE3WZ2"
   },
   "source": [
    "Подберем max_df такой, что размер словаря будет 36651 (на 1 меньше, чем было). Почему параметр получился такой большой/маленький?"
   ]
  },
  {
   "cell_type": "code",
   "execution_count": 81,
   "metadata": {
    "colab": {
     "base_uri": "https://localhost:8080/"
    },
    "id": "7JQpupPYdpIK",
    "outputId": "032ae52e-54e0-4653-8f30-4f3fd1b90ed3"
   },
   "outputs": [
    {
     "data": {
      "text/plain": [
       "(33444, 6)"
      ]
     },
     "execution_count": 81,
     "metadata": {},
     "output_type": "execute_result"
    }
   ],
   "source": [
    "df.shape"
   ]
  },
  {
   "cell_type": "code",
   "execution_count": 82,
   "metadata": {
    "colab": {
     "base_uri": "https://localhost:8080/"
    },
    "id": "o3YLb8PViExb",
    "outputId": "0f4e8a31-1c76-4d66-b8e7-8e2413a7028e"
   },
   "outputs": [
    {
     "name": "stdout",
     "output_type": "stream",
     "text": [
      "36651\n"
     ]
    }
   ],
   "source": [
    "cv_df = CountVectorizer(tokenizer=custom_stem_tokenizer,\n",
    "                        max_df=8000).fit(train.OriginalTweet)\n",
    "print(len(cv_df.vocabulary_))"
   ]
  },
  {
   "cell_type": "markdown",
   "metadata": {
    "id": "UdZYoGZR4UsA"
   },
   "source": [
    "**Ответ:** Параметр говорит о том, что если слово встречалось более чем в 8000 текстах, то это слово надо убрать. Параметр гораздо меньше, чем общее число текстов (33444), потому что все часто встречающиеся служебные слова, пунктуацию и stropwords убрали. Однако параметр до сих пор довольно большой из-за того, что нужно оставить размер словаря лишь на одно слово меньше (то есть довольно часто встречаются значимые по смыслу слова, скорее всего это хэштэги с коронавирусом)"
   ]
  },
  {
   "cell_type": "markdown",
   "metadata": {
    "id": "_gRIUaB1u32f"
   },
   "source": [
    "Подберем min_df (используйте дефолтное значение max_df) в CountVectorizer таким образом, чтобы размер словаря был 3700 токенов (при использовании токенайзера со стеммингом), а качество осталось таким же, как и было. Что можно сказать о результатах?"
   ]
  },
  {
   "cell_type": "code",
   "execution_count": null,
   "metadata": {
    "id": "yJHvaDEsXCgL"
   },
   "outputs": [],
   "source": [
    "#cv_df = CountVectorizer(tokenizer=custom_stem_tokenizer,min_df=11)"
   ]
  },
  {
   "cell_type": "code",
   "execution_count": 32,
   "metadata": {
    "colab": {
     "base_uri": "https://localhost:8080/"
    },
    "id": "kSnMJkn9XmsT",
    "outputId": "64c928c7-9a82-4973-ad23-ceaa2e21b6ae"
   },
   "outputs": [
    {
     "name": "stdout",
     "output_type": "stream",
     "text": [
      "3700\n"
     ]
    }
   ],
   "source": [
    "cv_df = CountVectorizer(tokenizer=custom_stem_tokenizer,\n",
    "                        min_df=11).fit(train.OriginalTweet)\n",
    "print(len(cv_df.vocabulary_))"
   ]
  },
  {
   "cell_type": "code",
   "execution_count": 33,
   "metadata": {
    "colab": {
     "base_uri": "https://localhost:8080/"
    },
    "id": "mvMDwpdfjm8Y",
    "outputId": "58b2d59d-c260-4217-b348-8a8914acc723"
   },
   "outputs": [
    {
     "name": "stdout",
     "output_type": "stream",
     "text": [
      "CountVectorizer\n",
      "Train 0.9844510892780863\n",
      "Test 0.8672513454255532\n"
     ]
    }
   ],
   "source": [
    "train_cv_df = cv_df.transform(train.OriginalTweet)\n",
    "test_cv_df = cv_df.transform(test.OriginalTweet)\n",
    "clf = LogisticRegression(max_iter=200, random_state=42)\n",
    "clf.fit(train_cv, y_train)\n",
    "pred_train = clf.predict(train_cv)\n",
    "pred_test = clf.predict(test_cv)\n",
    "print('CountVectorizer')\n",
    "print('Train',accuracy_score(y_train, pred_train))\n",
    "print('Test',accuracy_score(y_test, pred_test))"
   ]
  },
  {
   "cell_type": "markdown",
   "metadata": {
    "id": "3fGYpUIZx0fk"
   },
   "source": [
    "**Ответ:** Так как этот параметр убирает слова, которые встречались в менее, чем 11 текстах, то 32 952 слов встречалось очень редко. То есть если сопоставить с параметром max_df, то основной диапазон встречаемости слов: 11 - 8000 текстов."
   ]
  },
  {
   "cell_type": "markdown",
   "metadata": {
    "id": "Gx_h_-inKbBl"
   },
   "source": [
    "В предыдущих заданиях признаки не скалировались. Отскалируем данные (при словаре размера 3.7 тысяч, векторизованные CountVectorizer), обучим логистическую регрессию и выведем `barplot` содержащий по 10 токенов, с наибольшим по модулю положительными/отрицательными весами. Что можно сказать об этих токенах?"
   ]
  },
  {
   "cell_type": "code",
   "execution_count": 34,
   "metadata": {
    "id": "KBATXJX6LG9q"
   },
   "outputs": [],
   "source": [
    "from sklearn.preprocessing import StandardScaler\n",
    "\n",
    "#масштабирование\n",
    "scaler = StandardScaler(with_mean=False)\n",
    "train_cv_df = scaler.fit_transform(train_cv_df)\n",
    "test_cv_df = scaler.transform(test_cv_df)"
   ]
  },
  {
   "cell_type": "code",
   "execution_count": 45,
   "metadata": {
    "colab": {
     "base_uri": "https://localhost:8080/"
    },
    "id": "aR1PnMAlXgwV",
    "outputId": "21246d03-f6b4-4d2a-c9bb-bda8872794ce"
   },
   "outputs": [
    {
     "name": "stdout",
     "output_type": "stream",
     "text": [
      "              precision    recall  f1-score   support\n",
      "\n",
      "           0       0.83      0.82      0.83      4552\n",
      "           1       0.85      0.86      0.86      5482\n",
      "\n",
      "    accuracy                           0.84     10034\n",
      "   macro avg       0.84      0.84      0.84     10034\n",
      "weighted avg       0.84      0.84      0.84     10034\n",
      "\n"
     ]
    }
   ],
   "source": [
    "from sklearn.metrics import classification_report\n",
    "clf = LogisticRegression(max_iter=300, random_state=42)\n",
    "clf.fit(train_cv_df, y_train)\n",
    "pred = clf.predict(test_cv_df)\n",
    "print(classification_report(y_test, pred))"
   ]
  },
  {
   "cell_type": "code",
   "execution_count": 87,
   "metadata": {
    "colab": {
     "base_uri": "https://localhost:8080/"
    },
    "id": "SKocc92NbWN7",
    "outputId": "5b93bfb9-3d66-4352-bcee-e532e8180479"
   },
   "outputs": [
    {
     "data": {
      "text/plain": [
       "{'#travel': -8.701725128065441e-07,\n",
       " 'nonprofit': -2.8625691840315242e-05,\n",
       " 'cop': -8.166421307913877e-05,\n",
       " 'throughout': -0.0001362088945697947,\n",
       " '#london': 0.00014565774666226223,\n",
       " 'specif': 0.00019210481145176886,\n",
       " 'convert': 0.0002370300930839149,\n",
       " 'rethink': -0.00023786343132773828,\n",
       " '@kroger': 0.00025584833880068215,\n",
       " 'park': -0.00026483196594986294}"
      ]
     },
     "execution_count": 87,
     "metadata": {},
     "output_type": "execute_result"
    }
   ],
   "source": [
    "d = {}\n",
    "for i in np.sort(np.abs(clf.coef_)[0])[:10]:\n",
    "  index = np.where(abs(clf.coef_) == i)[1][0]\n",
    "  d[cv_df.get_feature_names_out()[index]] = clf.coef_[0][index]\n",
    "d"
   ]
  },
  {
   "cell_type": "code",
   "execution_count": 131,
   "metadata": {
    "colab": {
     "base_uri": "https://localhost:8080/",
     "height": 718
    },
    "id": "_DGJK1SRdKde",
    "outputId": "e20c2548-74fe-4810-b01f-3bf75aa35a1e"
   },
   "outputs": [
    {
     "data": {
      "image/png": "[encoded data removed]",
      "text/plain": [
       "<Figure size 1000x800 with 1 Axes>"
      ]
     },
     "metadata": {},
     "output_type": "display_data"
    }
   ],
   "source": [
    "plt.figure(figsize = (10, 8))\n",
    "plt.bar(range(len(d)), list(d.values()), align='center')\n",
    "plt.xticks(range(len(d)), list(d.keys()))\n",
    "plt.title('Самые большие по модулю веса и токены')\n",
    "plt.xlabel('Токены')\n",
    "plt.ylabel('Вес');"
   ]
  },
  {
   "cell_type": "markdown",
   "metadata": {
    "id": "ThcEfzY1LHET"
   },
   "source": [
    "**Ответ:** Выбор токенов, которые больше всего влияют на определение моделью класса, довольно странный.\n",
    "Можно предположить, что, например, предлог времени throughout используют чаще всего в негативной окраске, так как обычно используется \"throughout the whole period\". Или, например, то, что люди в Лондоне более положительно относились к ситуации (#london)"
   ]
  },
  {
   "cell_type": "markdown",
   "metadata": {
    "id": "ktJVOdrIHq7B"
   },
   "source": [
    "## Задание 7 Другие признаки (1.5 балла)"
   ]
  },
  {
   "cell_type": "markdown",
   "metadata": {
    "id": "Yt3jRCZ2H0Og"
   },
   "source": [
    "Мы были сконцентрированы на работе с текстами твиттов и не использовали другие признаки - имена пользователя, дату и местоположение"
   ]
  },
  {
   "cell_type": "markdown",
   "metadata": {
    "id": "52wjewCCo_di"
   },
   "source": [
    "Изучим признаки UserName и ScreenName. полезны ли они? Если полезны, то закодируйте их, добавьте к матрице с отскалированными признаками, обучите логистическую регрессию, замерьте качество."
   ]
  },
  {
   "cell_type": "markdown",
   "metadata": {
    "id": "TkoOmiwcowAy"
   },
   "source": [
    "Эти признаки бессмысленно кодировать, так как если, например, использовать OneHotEncoder, то в test обязательно встретятся те пользователи, которые не были в train (то есть это не категориальная переменная, так как значения могут приниматься вплоть до бесконечности). При этом масштабирование тоже не придаст смысла, поэтому используем в истинном виде и проверим, повысилось ли качество"
   ]
  },
  {
   "cell_type": "code",
   "execution_count": 35,
   "metadata": {
    "colab": {
     "base_uri": "https://localhost:8080/"
    },
    "id": "nxkuDUGQpqgb",
    "outputId": "b2453374-dd8a-4ac0-e329-09996200a96f"
   },
   "outputs": [
    {
     "data": {
      "text/plain": [
       "(23410, 3700)"
      ]
     },
     "execution_count": 35,
     "metadata": {},
     "output_type": "execute_result"
    }
   ],
   "source": [
    "train_cv_df.toarray().shape"
   ]
  },
  {
   "cell_type": "code",
   "execution_count": 46,
   "metadata": {
    "colab": {
     "base_uri": "https://localhost:8080/"
    },
    "id": "yvOKwGGspQgm",
    "outputId": "f7883a6d-3f50-4fb5-eee4-56bd11a8b4ff"
   },
   "outputs": [
    {
     "name": "stdout",
     "output_type": "stream",
     "text": [
      "              precision    recall  f1-score   support\n",
      "\n",
      "           0       0.84      0.83      0.84      4552\n",
      "           1       0.86      0.87      0.87      5482\n",
      "\n",
      "    accuracy                           0.85     10034\n",
      "   macro avg       0.85      0.85      0.85     10034\n",
      "weighted avg       0.85      0.85      0.85     10034\n",
      "\n"
     ]
    }
   ],
   "source": [
    "#попробуем добавить в истинном виде\n",
    "train_new = np.concatenate((train[['UserName', 'ScreenName']].to_numpy(), train_cv_df.toarray()), axis = 1)\n",
    "test_new = np.concatenate((test[['UserName', 'ScreenName']].to_numpy(), test_cv_df.toarray()), axis = 1)\n",
    "clf = LogisticRegression(max_iter=300, random_state=42)\n",
    "clf.fit(train_new, y_train)\n",
    "pred = clf.predict(test_new)\n",
    "print(classification_report(y_test, pred))"
   ]
  },
  {
   "cell_type": "code",
   "execution_count": 121,
   "metadata": {
    "colab": {
     "base_uri": "https://localhost:8080/"
    },
    "id": "dQhN-gB-qloT",
    "outputId": "6eae236d-08a6-4bee-c928-b5b73357690a"
   },
   "outputs": [
    {
     "name": "stdout",
     "output_type": "stream",
     "text": [
      "Train 0.9237078171721487\n",
      "Test 0.8517042057006179\n"
     ]
    }
   ],
   "source": [
    "pred_train = clf.predict(train_new)\n",
    "print('Train',accuracy_score(y_train, pred_train))\n",
    "print('Test',accuracy_score(y_test, pred))"
   ]
  },
  {
   "cell_type": "markdown",
   "metadata": {
    "id": "r8_qR-gnpT3a"
   },
   "source": [
    "**Ответ:** Если сранивать с результатами модели до масштабирования, то эта модель работает хуже (так как данные признаки не дают дополнительной помощи при определении окраски твита)\n",
    "Однако если сравнивать с качеством модели, обученной после масштабирования, то эта модель улучшила качество"
   ]
  },
  {
   "cell_type": "markdown",
   "metadata": {
    "id": "ythEcFSkt7y3"
   },
   "source": [
    "Изучите признак TweetAt в обучающей выборке: преобразуйте его к типу datetime и нарисуйте его гистограмму с разделением по цвету на основе целевой переменной. Полезен ли он? Если полезен, то закодируйте его, добавьте к матрице с отскалированными признаками, обучите логистическую регрессию, замерьте качество."
   ]
  },
  {
   "cell_type": "code",
   "execution_count": 37,
   "metadata": {
    "id": "Lxb_k0JLirNv"
   },
   "outputs": [],
   "source": [
    "#преобразование к типу datetime\n",
    "train['TweetAt'] = pd.to_datetime(train['TweetAt'], dayfirst = True)\n",
    "test['TweetAt'] = pd.to_datetime(test['TweetAt'], dayfirst = True)"
   ]
  },
  {
   "cell_type": "code",
   "execution_count": 42,
   "metadata": {
    "colab": {
     "base_uri": "https://localhost:8080/"
    },
    "id": "55Nk7iybzJWN",
    "outputId": "cf01d99a-2ed0-4874-9348-f9b23a658cd1"
   },
   "outputs": [
    {
     "data": {
      "text/plain": [
       "25621   2020-04-06\n",
       "30135   2020-04-10\n",
       "28899   2020-04-09\n",
       "5989    2020-03-19\n",
       "4367    2020-03-18\n",
       "           ...    \n",
       "20757   2020-03-31\n",
       "32103   2020-04-13\n",
       "30403   2020-04-10\n",
       "21243   2020-04-01\n",
       "2732    2020-03-18\n",
       "Name: TweetAt, Length: 23410, dtype: datetime64[ns]"
      ]
     },
     "execution_count": 42,
     "metadata": {},
     "output_type": "execute_result"
    }
   ],
   "source": [
    "train['TweetAt']"
   ]
  },
  {
   "cell_type": "code",
   "execution_count": 43,
   "metadata": {
    "colab": {
     "base_uri": "https://localhost:8080/",
     "height": 641
    },
    "id": "-WCxukfMsA5C",
    "outputId": "007cbda5-816a-40fc-de05-0db1db0ecf98"
   },
   "outputs": [
    {
     "data": {
      "image/png": "[encoded data removed]",
      "text/plain": [
       "<Figure size 1500x700 with 1 Axes>"
      ]
     },
     "metadata": {},
     "output_type": "display_data"
    }
   ],
   "source": [
    "plt.figure(figsize = (15, 7))\n",
    "sns.histplot(x = train['TweetAt'], hue = y_train)\n",
    "#plt.xticks(rotation=90)\n",
    "plt.title('Гистограмма даты твита')\n",
    "plt.xlabel('Дата')\n",
    "plt.ylabel('Количество твитов');"
   ]
  },
  {
   "cell_type": "markdown",
   "metadata": {
    "id": "1IK5tuJNutIX"
   },
   "source": [
    "Так как дата - это не категориальная переменная, кодировать ее тоже нет смысла. Попробуем добавить переменные дня и месяца"
   ]
  },
  {
   "cell_type": "code",
   "execution_count": 48,
   "metadata": {
    "colab": {
     "base_uri": "https://localhost:8080/"
    },
    "id": "mXsV3KttuFdX",
    "outputId": "78aba845-b5c3-43ec-faaf-d32b15ea47ec"
   },
   "outputs": [
    {
     "name": "stdout",
     "output_type": "stream",
     "text": [
      "              precision    recall  f1-score   support\n",
      "\n",
      "           0       0.83      0.82      0.83      4552\n",
      "           1       0.85      0.86      0.86      5482\n",
      "\n",
      "    accuracy                           0.84     10034\n",
      "   macro avg       0.84      0.84      0.84     10034\n",
      "weighted avg       0.84      0.84      0.84     10034\n",
      "\n"
     ]
    }
   ],
   "source": [
    "#попробуем добавить в истинном виде\n",
    "train_new = np.concatenate((train['TweetAt'].dt.day.to_numpy().reshape(-1, 1), train['TweetAt'].dt.month.to_numpy().reshape(-1, 1), train_cv_df.toarray()), axis = 1)\n",
    "test_new = np.concatenate((test['TweetAt'].dt.day.to_numpy().reshape(-1, 1), test['TweetAt'].dt.month.to_numpy().reshape(-1, 1), test_cv_df.toarray()), axis = 1)\n",
    "clf = LogisticRegression(max_iter=300, random_state=42)\n",
    "clf.fit(train_new, y_train)\n",
    "pred = clf.predict(test_new)\n",
    "print(classification_report(y_test, pred))"
   ]
  },
  {
   "cell_type": "markdown",
   "metadata": {
    "id": "4IdLBdpQxM-G"
   },
   "source": [
    "**Ответ:** Видно, что качество модели не улучшилось, то есть эти переменные действительно не имеют смысла и не помогаюют в классификации твитов\n",
    "\n"
   ]
  },
  {
   "cell_type": "markdown",
   "metadata": {
    "id": "r2JtRPhNP6qx"
   },
   "source": [
    "Поработаем с признаком Location в обучающей выборке"
   ]
  },
  {
   "cell_type": "code",
   "execution_count": 49,
   "metadata": {
    "colab": {
     "base_uri": "https://localhost:8080/"
    },
    "id": "xYQZQ1FRNpoe",
    "outputId": "b1eda435-151a-4279-bdb2-065307d836ab"
   },
   "outputs": [
    {
     "name": "stdout",
     "output_type": "stream",
     "text": [
      "Во всем датасете уникальных значений 10465\n",
      "Во обучающей выборке уникальных значений 7949\n"
     ]
    }
   ],
   "source": [
    "print(f'Во всем датасете уникальных значений {df.Location.unique().shape[0]}')\n",
    "print(f'Во обучающей выборке уникальных значений {train.Location.unique().shape[0]}')"
   ]
  },
  {
   "cell_type": "markdown",
   "metadata": {
    "id": "6k4JwpRTQISa"
   },
   "source": [
    "Построем гистограмму топ-10 по популярности местоположений (исключая Unknown)"
   ]
  },
  {
   "cell_type": "code",
   "execution_count": 51,
   "metadata": {
    "colab": {
     "base_uri": "https://localhost:8080/"
    },
    "id": "J91YkhegJ0mz",
    "outputId": "557399ee-ff9f-41aa-ec5d-efe6be14bb1b"
   },
   "outputs": [
    {
     "data": {
      "text/plain": [
       "Location\n",
       "London             301\n",
       "United States      295\n",
       "London, England    274\n",
       "New York, NY       223\n",
       "Washington, DC     222\n",
       "United Kingdom     204\n",
       "Los Angeles, CA    154\n",
       "India              153\n",
       "UK                 133\n",
       "Australia          118\n",
       "Name: count, dtype: int64"
      ]
     },
     "execution_count": 51,
     "metadata": {},
     "output_type": "execute_result"
    }
   ],
   "source": [
    "top = train.Location.value_counts()[1:11] #Убрали Unknown, который встречается чаще всего\n",
    "top"
   ]
  },
  {
   "cell_type": "code",
   "execution_count": 52,
   "metadata": {
    "colab": {
     "base_uri": "https://localhost:8080/",
     "height": 574
    },
    "id": "Y8NhSOc_frDw",
    "outputId": "f812fa40-e17d-4551-aa93-a5b0eeee6bbb"
   },
   "outputs": [
    {
     "data": {
      "image/png": "[encoded data removed]",
      "text/plain": [
       "<Figure size 640x480 with 1 Axes>"
      ]
     },
     "metadata": {},
     "output_type": "display_data"
    }
   ],
   "source": [
    "top.plot.bar()\n",
    "plt.title('Топ-10 местоположений по популярности')\n",
    "plt.xlabel('Местоположение')\n",
    "plt.ylabel('Количество твитов');"
   ]
  },
  {
   "cell_type": "markdown",
   "metadata": {
    "id": "ZOsv3lODTfYB"
   },
   "source": [
    "Видно, что многие местоположения включают в себя более точное название места, чем другие (Например, у некоторых стоит London, UK; а у некоторых просто UK или United Kingdom).\n",
    "\n",
    "Создадим новый признак WiderLocation, который содержит самое широкое местоположение (например, из London, UK должно получиться UK)"
   ]
  },
  {
   "cell_type": "code",
   "execution_count": 53,
   "metadata": {
    "colab": {
     "base_uri": "https://localhost:8080/"
    },
    "id": "srCP3OUygynO",
    "outputId": "ee33f4c4-f9ad-46b4-8212-fbdbf918e633"
   },
   "outputs": [
    {
     "data": {
      "text/plain": [
       "Location\n",
       "Unknown                           4944\n",
       "London                             301\n",
       "United States                      295\n",
       "London, England                    274\n",
       "New York, NY                       223\n",
       "                                  ... \n",
       "Work: Kent and Live: Sussex          1\n",
       "Somewhere on TradingView             1\n",
       "Honolulu, Hawai?i                    1\n",
       "SFO                                  1\n",
       "Waterville, Ireland Austin, TX       1\n",
       "Name: count, Length: 7949, dtype: int64"
      ]
     },
     "execution_count": 53,
     "metadata": {},
     "output_type": "execute_result"
    }
   ],
   "source": [
    "train.Location.value_counts()"
   ]
  },
  {
   "cell_type": "code",
   "execution_count": 70,
   "metadata": {
    "id": "mSkow6acOMyD"
   },
   "outputs": [],
   "source": [
    "def func(location):\n",
    "  num = location.count(',')\n",
    "  location = location.strip()\n",
    "  if location == 'Unknown':\n",
    "    return 'Unknown'\n",
    "  elif 'England' in location:\n",
    "    return 'UK'\n",
    "  elif num != 0:\n",
    "    return location.split(', ')[-1]\n",
    "  else:\n",
    "    return location"
   ]
  },
  {
   "cell_type": "code",
   "execution_count": 71,
   "metadata": {
    "id": "RTsJGGWOh_FL"
   },
   "outputs": [],
   "source": [
    "train['WiderLocation'] = train.Location.apply(func)\n",
    "test['WiderLocation'] = test.Location.apply(func)"
   ]
  },
  {
   "cell_type": "code",
   "execution_count": 72,
   "metadata": {
    "colab": {
     "base_uri": "https://localhost:8080/"
    },
    "id": "OiZ6JVX4i4hH",
    "outputId": "d3c064bb-79ad-4c5d-e20d-292866841c5c"
   },
   "outputs": [
    {
     "name": "stdout",
     "output_type": "stream",
     "text": [
      "Во обучающей выборке уникальных значений 4691\n"
     ]
    }
   ],
   "source": [
    "print(f'Во обучающей выборке уникальных значений {train.WiderLocation.unique().shape[0]}')"
   ]
  },
  {
   "cell_type": "code",
   "execution_count": 73,
   "metadata": {
    "colab": {
     "base_uri": "https://localhost:8080/"
    },
    "id": "Lamru8pg2als",
    "outputId": "c16fd577-6aa6-4c79-bde6-759e98a7c802"
   },
   "outputs": [
    {
     "data": {
      "text/plain": [
       "WiderLocation\n",
       "UK                1430\n",
       "USA                955\n",
       "CA                 604\n",
       "India              541\n",
       "NY                 395\n",
       "London             382\n",
       "United States      306\n",
       "Canada             293\n",
       "United Kingdom     279\n",
       "Australia          273\n",
       "Name: count, dtype: int64"
      ]
     },
     "execution_count": 73,
     "metadata": {},
     "output_type": "execute_result"
    }
   ],
   "source": [
    "train.WiderLocation.value_counts()[1:11]"
   ]
  },
  {
   "cell_type": "code",
   "execution_count": 76,
   "metadata": {
    "colab": {
     "base_uri": "https://localhost:8080/",
     "height": 569
    },
    "id": "j3xqz_cdi-9j",
    "outputId": "908b07b1-cccc-495b-a425-0f2f4a89fa3d"
   },
   "outputs": [
    {
     "data": {
      "image/png": "[encoded data removed]",
      "text/plain": [
       "<Figure size 640x480 with 1 Axes>"
      ]
     },
     "metadata": {},
     "output_type": "display_data"
    }
   ],
   "source": [
    "top = train.WiderLocation.value_counts()[1:11]\n",
    "top.plot.bar()\n",
    "plt.title('Топ-10 местоположений')\n",
    "plt.xlabel('Местоположение')\n",
    "plt.ylabel('Количество твитов');"
   ]
  },
  {
   "cell_type": "markdown",
   "metadata": {
    "id": "cgyWrD2eVfff"
   },
   "source": [
    "Закодируем признак WiderLocation с помощью OHE таким образом, чтобы создались только столбцы для местоположений, которые встречаются более одного раза\n"
   ]
  },
  {
   "cell_type": "code",
   "execution_count": 79,
   "metadata": {
    "colab": {
     "base_uri": "https://localhost:8080/"
    },
    "id": "fk4fHwpE4N_4",
    "outputId": "7aa81356-7616-4505-80ce-cb695c082ff9"
   },
   "outputs": [
    {
     "name": "stdout",
     "output_type": "stream",
     "text": [
      "Количество значений, которые встречаются более одного раза\n"
     ]
    },
    {
     "data": {
      "text/plain": [
       "981"
      ]
     },
     "execution_count": 79,
     "metadata": {},
     "output_type": "execute_result"
    }
   ],
   "source": [
    "print('Количество значений, которые встречаются более одного раза')\n",
    "train.WiderLocation.value_counts()[train.WiderLocation.value_counts() > 1].shape[0]"
   ]
  },
  {
   "cell_type": "code",
   "execution_count": 91,
   "metadata": {
    "id": "pOoFJ9uf4rni"
   },
   "outputs": [],
   "source": [
    "categories = list(train.WiderLocation.value_counts()[train.WiderLocation.value_counts() > 1].index.values[1:])"
   ]
  },
  {
   "cell_type": "code",
   "execution_count": 101,
   "metadata": {
    "colab": {
     "base_uri": "https://localhost:8080/"
    },
    "id": "ho7CBHUl8toe",
    "outputId": "76ef66ae-9f9b-4f5f-ddcc-e224445c6ef3"
   },
   "outputs": [
    {
     "data": {
      "text/plain": [
       "25621            NaN\n",
       "30135            NaN\n",
       "28899          India\n",
       "5989              UK\n",
       "4367             NaN\n",
       "            ...     \n",
       "20757            NaN\n",
       "32103             TX\n",
       "30403    Delhi India\n",
       "21243            NaN\n",
       "2732             NaN\n",
       "Name: WiderLocation, Length: 23410, dtype: object"
      ]
     },
     "execution_count": 101,
     "metadata": {},
     "output_type": "execute_result"
    }
   ],
   "source": [
    "train.WiderLocation.apply(lambda x:np.NaN if x not in categories else x)"
   ]
  },
  {
   "cell_type": "code",
   "execution_count": null,
   "metadata": {
    "id": "dAieqz8t8-NP"
   },
   "outputs": [],
   "source": [
    "from sklearn.preprocessing import OneHotEncoder\n",
    "ohe = OneHotEncoder(handle_unknown=\"ignore\", drop=\"first\", min_frequency = 2)\n",
    "ohe.fit(train.WiderLocation.to_numpy().reshape(-1, 1))\n",
    "train_wl_transformed = ohe.transform(train.WiderLocation.to_numpy().reshape(-1, 1))\n",
    "test_wl_transformed = ohe.transform(test.WiderLocation.to_numpy().reshape(-1, 1))"
   ]
  },
  {
   "cell_type": "code",
   "execution_count": 96,
   "metadata": {
    "colab": {
     "base_uri": "https://localhost:8080/"
    },
    "id": "-CYMkqnSsfEQ",
    "outputId": "b1b435a5-79ec-4f4a-8589-2e4cd3eb75e2"
   },
   "outputs": [
    {
     "data": {
      "text/plain": [
       "array([[0., 0., 0., ..., 0., 0., 0.],\n",
       "       [0., 0., 0., ..., 0., 0., 0.],\n",
       "       [0., 0., 0., ..., 0., 0., 0.],\n",
       "       ...,\n",
       "       [0., 0., 0., ..., 0., 0., 0.],\n",
       "       [0., 0., 0., ..., 0., 0., 0.],\n",
       "       [0., 0., 0., ..., 0., 0., 0.]])"
      ]
     },
     "execution_count": 96,
     "metadata": {},
     "output_type": "execute_result"
    }
   ],
   "source": [
    "train_wl_transformed.toarray()"
   ]
  },
  {
   "cell_type": "markdown",
   "metadata": {
    "id": "ZyMX5kZuimPK"
   },
   "source": [
    "Добавьте этот признак к матрице отскалированных текстовых признаков, обучите логистическую регрессию, замерьте качество. Как оно изменилось? Оказался ли признак полезным?"
   ]
  },
  {
   "cell_type": "code",
   "execution_count": 97,
   "metadata": {
    "colab": {
     "base_uri": "https://localhost:8080/"
    },
    "id": "EO1jNPeeim7A",
    "outputId": "929133fa-dcbf-4c1c-c28c-26a93a903778"
   },
   "outputs": [
    {
     "name": "stdout",
     "output_type": "stream",
     "text": [
      "              precision    recall  f1-score   support\n",
      "\n",
      "           0       0.83      0.82      0.83      4552\n",
      "           1       0.85      0.86      0.86      5482\n",
      "\n",
      "    accuracy                           0.84     10034\n",
      "   macro avg       0.84      0.84      0.84     10034\n",
      "weighted avg       0.84      0.84      0.84     10034\n",
      "\n"
     ]
    }
   ],
   "source": [
    "train_new = np.concatenate((train_wl_transformed.toarray(), train_cv_df.toarray()), axis = 1)\n",
    "test_new = np.concatenate((test_wl_transformed.toarray(), test_cv_df.toarray()), axis = 1)\n",
    "clf = LogisticRegression(max_iter=300, random_state=42)\n",
    "clf.fit(train_new, y_train)\n",
    "pred = clf.predict(test_new)\n",
    "print(classification_report(y_test, pred))"
   ]
  },
  {
   "cell_type": "code",
   "execution_count": 98,
   "metadata": {
    "colab": {
     "base_uri": "https://localhost:8080/"
    },
    "id": "_uxArkkE6yJT",
    "outputId": "266a7d4f-1944-4b98-de3d-be3882107e1e"
   },
   "outputs": [
    {
     "name": "stdout",
     "output_type": "stream",
     "text": [
      "Train 0.9457923964117898\n",
      "Test 0.8444289415985649\n"
     ]
    }
   ],
   "source": [
    "pred_train = clf.predict(train_new)\n",
    "print('Train',accuracy_score(y_train, pred_train))\n",
    "print('Test',accuracy_score(y_test, pred))"
   ]
  },
  {
   "cell_type": "markdown",
   "metadata": {
    "id": "7dHsGlDRYUQt"
   },
   "source": [
    "**Ответ:** Качество модели ухудшилось и на тестовой, и на обучающей выборке"
   ]
  }
 ],
 "metadata": {
  "colab": {
   "provenance": []
  },
  "kernelspec": {
   "display_name": "Python 3 (ipykernel)",
   "language": "python",
   "name": "python3"
  },
  "language_info": {
   "codemirror_mode": {
    "name": "ipython",
    "version": 3
   },
   "file_extension": ".py",
   "mimetype": "text/x-python",
   "name": "python",
   "nbconvert_exporter": "python",
   "pygments_lexer": "ipython3",
   "version": "3.11.5"
  }
 },
 "nbformat": 4,
 "nbformat_minor": 1
}
